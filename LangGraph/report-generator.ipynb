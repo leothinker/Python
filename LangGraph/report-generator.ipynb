{
 "cells": [
  {
   "cell_type": "code",
   "execution_count": null,
   "id": "9b53f6fd",
   "metadata": {},
   "outputs": [],
   "source": [
    "from langgraph.graph import StateGraph"
   ]
  },
  {
   "cell_type": "code",
   "execution_count": null,
   "id": "69a042fb",
   "metadata": {},
   "outputs": [],
   "source": [
    "class TreeState(MessagesState):\n",
    "    # The unique ID\n",
    "    id: uuid.UUID\n",
    "    # The height of the current node\n",
    "    height: int\n",
    "    # The focused sub-problem\n",
    "    focused_problem: str\n",
    "    # The maximum initial height for expanding\n",
    "    max_height: Optional[int]\n",
    "    # Reason of associating this focused_problem\n",
    "    # reason_of_associating: Optional[str]\n",
    "    # Original problem that trigerred this problem\n",
    "    original_problem: Optional[str]\n",
    "    # Child list\n",
    "    child_list: Optional[List[\"TreeState\"]]\n",
    "    # Responsd to this node as leaf\n",
    "    respond: Optional[str]\n",
    "    # Visualization info about this node\n",
    "    artifact: Optional[Annotated[TableArtifact, ChartArtifact]]\n",
    "    # Type of Visualization\n",
    "    artifact_type: Optional[str]\n",
    "    # Node to be expanded\n",
    "    expanded_id: Optional[uuid.UUID]\n",
    "    # Questions asked previously\n",
    "    prev_questions: Optional[List[str]]\n",
    "    # Regenerate time record, 0 means no need to regenerate\n",
    "    regenerate_times: Optional[int]\n",
    "    # num of subproblems need to generate\n",
    "    max_subproblems: Optional[int]\n",
    "    # tables in the dataset\n",
    "    data_tables: Optional[str]\n",
    "    # schema of data tables\n",
    "    data_schemas: Optional[dict]\n",
    "    # first level subproblems number\n",
    "    first_level_subproblems: Optional[int]\n"
   ]
  },
  {
   "cell_type": "code",
   "execution_count": null,
   "id": "bcdfc154",
   "metadata": {},
   "outputs": [],
   "source": [
    "builder = StateGraph(TreeState)\n",
    "builder.add_node(\"tree_traverser\", traverse_tree)\n",
    "builder.add_node(\"span\", divide_problem)\n",
    "builder.add_node(\"execute\", solve_problem)\n",
    "# builder.add_node(\"regenerate\", regenerate_problem)\n",
    "# builder.add_node(\"summarize\", summarize_subproblems)\n",
    "builder.add_node(\"tools_init\", use_tools_init)\n",
    "builder.add_node(\"tools_span\", use_tools_span)\n",
    "# builder.add_node(\"tools_regenerate\", use_tools_regenerate)\n",
    "builder.add_node(\"tools_execute\", use_tools_execute)\n",
    "\n",
    "builder.add_edge(START, \"tree_traverser\")\n",
    "builder.add_conditional_edges(\"tree_traverser\", lambda state: state[\"next\"])\n",
    "builder.add_conditional_edges(\n",
    "    \"span\",\n",
    "    route_span,\n",
    "    {\"span\": \"span\", \"tools_span\": \"tools_span\", 'tree_traverser': 'tree_traverser'},\n",
    ")\n",
    "# builder.add_conditional_edges(\n",
    "#     \"regenerate\",\n",
    "#     route_regenerate,\n",
    "#     {\"regenerate\": \"regenerate\", \"tools_regenerate\": \"tools_regenerate\", 'execute': 'execute'},\n",
    "# )\n",
    "builder.add_conditional_edges(\n",
    "    \"execute\",\n",
    "    route_execute,\n",
    "    {\"execute\": \"execute\", \"tools_execute\": \"tools_execute\",\n",
    "      'tree_traverser': 'tree_traverser'},# 'regenerate': 'regenerate'},\n",
    ")\n",
    "\n",
    "builder.add_edge(\"tools_init\", \"tree_traverser\")\n",
    "builder.add_edge(\"tools_span\", \"span\")\n",
    "# builder.add_edge(\"tools_regenerate\", \"regenerate\")\n",
    "builder.add_edge(\"tools_execute\", \"execute\")"
   ]
  }
 ],
 "metadata": {
  "language_info": {
   "name": "python"
  }
 },
 "nbformat": 4,
 "nbformat_minor": 5
}
