{
 "cells": [
  {
   "cell_type": "code",
   "execution_count": 1,
   "id": "ee78e7ee",
   "metadata": {},
   "outputs": [],
   "source": [
    "from langgraph_sdk import get_sync_client\n",
    "\n",
    "client = get_sync_client(url=\"http://127.0.0.1:2024\")\n",
    "\n",
    "# Using the graph deployed with the name \"agent\"\n",
    "assistant_id = \"agent\"\n",
    "\n",
    "# create a thread\n",
    "thread = client.threads.create()\n",
    "thread_id = thread[\"thread_id\"]\n",
    "\n",
    "# Run the graph\n",
    "result = client.runs.stream(\n",
    "    thread_id,\n",
    "    assistant_id,\n",
    "    input={\"messages\": [(\"user\", \"你好？\")]},\n",
    "    stream_subgraphs=True,\n",
    "    multitask_strategy=\"reject\",\n",
    ")"
   ]
  },
  {
   "cell_type": "code",
   "execution_count": 2,
   "id": "71f68604",
   "metadata": {},
   "outputs": [
    {
     "name": "stdout",
     "output_type": "stream",
     "text": [
      "StreamPart(event='metadata', data={'run_id': '1f05b99f-22aa-6a6b-ada2-62720fead38c', 'attempt': 1})\n",
      "StreamPart(event='values', data={'messages': [{'content': '你好？', 'additional_kwargs': {}, 'response_metadata': {}, 'type': 'human', 'name': None, 'id': '81ffc917-059d-4f3f-bb62-05713bef121b', 'example': False}]})\n",
      "StreamPart(event='values', data={'messages': [{'content': '你好？', 'additional_kwargs': {}, 'response_metadata': {}, 'type': 'human', 'name': None, 'id': '81ffc917-059d-4f3f-bb62-05713bef121b', 'example': False}, {'content': '你好！有什么我可以帮助您的吗？', 'additional_kwargs': {'refusal': None}, 'response_metadata': {'token_usage': {'completion_tokens': 11, 'prompt_tokens': 585, 'total_tokens': 596, 'completion_tokens_details': {'accepted_prediction_tokens': 0, 'audio_tokens': 0, 'reasoning_tokens': 0, 'rejected_prediction_tokens': 0}, 'prompt_tokens_details': {'audio_tokens': 0, 'cached_tokens': 0}}, 'model_name': 'gpt-4o-2024-08-06', 'system_fingerprint': 'fp_ee1d74bde0', 'id': 'chatcmpl-BqrJxC5hE2a3qBfzfFBFw3kcI9uVJ', 'service_tier': None, 'prompt_filter_results': [{'prompt_index': 0, 'content_filter_results': {'hate': {'filtered': False, 'severity': 'safe'}, 'jailbreak': {'filtered': False, 'detected': False}, 'self_harm': {'filtered': False, 'severity': 'safe'}, 'sexual': {'filtered': False, 'severity': 'safe'}, 'violence': {'filtered': False, 'severity': 'safe'}}}], 'finish_reason': 'stop', 'logprobs': None, 'content_filter_results': {'hate': {'filtered': False, 'severity': 'safe'}, 'protected_material_code': {'filtered': False, 'detected': False}, 'protected_material_text': {'filtered': False, 'detected': False}, 'self_harm': {'filtered': False, 'severity': 'safe'}, 'sexual': {'filtered': False, 'severity': 'safe'}, 'violence': {'filtered': False, 'severity': 'safe'}}}, 'type': 'ai', 'name': None, 'id': 'run--6efd4b4a-97c6-41dd-8cba-cd1791445207-0', 'example': False, 'tool_calls': [], 'invalid_tool_calls': [], 'usage_metadata': {'input_tokens': 585, 'output_tokens': 11, 'total_tokens': 596, 'input_token_details': {'audio': 0, 'cache_read': 0}, 'output_token_details': {'audio': 0, 'reasoning': 0}}}]})\n"
     ]
    }
   ],
   "source": [
    "for i in result:\n",
    "    print(i)"
   ]
  },
  {
   "cell_type": "code",
   "execution_count": 3,
   "id": "388ae9fa",
   "metadata": {},
   "outputs": [],
   "source": [
    "result = client.runs.stream(\n",
    "    thread_id,\n",
    "    assistant_id,\n",
    "    input={\"messages\": [(\"user\", \"where can i find the best bagel?\")]},\n",
    "    stream_subgraphs=True,\n",
    "    multitask_strategy=\"reject\",\n",
    ")"
   ]
  },
  {
   "cell_type": "code",
   "execution_count": 4,
   "id": "254de5ba",
   "metadata": {},
   "outputs": [
    {
     "name": "stdout",
     "output_type": "stream",
     "text": [
      "StreamPart(event='metadata', data={'run_id': '1f05b99f-761f-60ca-b821-c5eb175a399c', 'attempt': 1})\n",
      "StreamPart(event='values', data={'messages': [{'content': '你好？', 'additional_kwargs': {}, 'response_metadata': {}, 'type': 'human', 'name': None, 'id': '81ffc917-059d-4f3f-bb62-05713bef121b', 'example': False}, {'content': '你好！有什么我可以帮助您的吗？', 'additional_kwargs': {'refusal': None}, 'response_metadata': {'token_usage': {'completion_tokens': 11, 'prompt_tokens': 585, 'total_tokens': 596, 'completion_tokens_details': {'accepted_prediction_tokens': 0, 'audio_tokens': 0, 'reasoning_tokens': 0, 'rejected_prediction_tokens': 0}, 'prompt_tokens_details': {'audio_tokens': 0, 'cached_tokens': 0}}, 'model_name': 'gpt-4o-2024-08-06', 'system_fingerprint': 'fp_ee1d74bde0', 'id': 'chatcmpl-BqrJxC5hE2a3qBfzfFBFw3kcI9uVJ', 'service_tier': None, 'prompt_filter_results': [{'prompt_index': 0, 'content_filter_results': {'hate': {'filtered': False, 'severity': 'safe'}, 'jailbreak': {'filtered': False, 'detected': False}, 'self_harm': {'filtered': False, 'severity': 'safe'}, 'sexual': {'filtered': False, 'severity': 'safe'}, 'violence': {'filtered': False, 'severity': 'safe'}}}], 'finish_reason': 'stop', 'logprobs': None, 'content_filter_results': {'hate': {'filtered': False, 'severity': 'safe'}, 'protected_material_code': {'filtered': False, 'detected': False}, 'protected_material_text': {'filtered': False, 'detected': False}, 'self_harm': {'filtered': False, 'severity': 'safe'}, 'sexual': {'filtered': False, 'severity': 'safe'}, 'violence': {'filtered': False, 'severity': 'safe'}}}, 'type': 'ai', 'name': None, 'id': 'run--6efd4b4a-97c6-41dd-8cba-cd1791445207-0', 'example': False, 'tool_calls': [], 'invalid_tool_calls': [], 'usage_metadata': {'input_tokens': 585, 'output_tokens': 11, 'total_tokens': 596, 'input_token_details': {'audio': 0, 'cache_read': 0}, 'output_token_details': {'audio': 0, 'reasoning': 0}}}, {'content': 'where can i find the best bagel?', 'additional_kwargs': {}, 'response_metadata': {}, 'type': 'human', 'name': None, 'id': '39346737-a9ae-4256-98a8-1cece84df24d', 'example': False}]})\n",
      "StreamPart(event='values', data={'messages': [{'content': '你好？', 'additional_kwargs': {}, 'response_metadata': {}, 'type': 'human', 'name': None, 'id': '81ffc917-059d-4f3f-bb62-05713bef121b', 'example': False}, {'content': '你好！有什么我可以帮助您的吗？', 'additional_kwargs': {'refusal': None}, 'response_metadata': {'token_usage': {'completion_tokens': 11, 'prompt_tokens': 585, 'total_tokens': 596, 'completion_tokens_details': {'accepted_prediction_tokens': 0, 'audio_tokens': 0, 'reasoning_tokens': 0, 'rejected_prediction_tokens': 0}, 'prompt_tokens_details': {'audio_tokens': 0, 'cached_tokens': 0}}, 'model_name': 'gpt-4o-2024-08-06', 'system_fingerprint': 'fp_ee1d74bde0', 'id': 'chatcmpl-BqrJxC5hE2a3qBfzfFBFw3kcI9uVJ', 'service_tier': None, 'prompt_filter_results': [{'prompt_index': 0, 'content_filter_results': {'hate': {'filtered': False, 'severity': 'safe'}, 'jailbreak': {'filtered': False, 'detected': False}, 'self_harm': {'filtered': False, 'severity': 'safe'}, 'sexual': {'filtered': False, 'severity': 'safe'}, 'violence': {'filtered': False, 'severity': 'safe'}}}], 'finish_reason': 'stop', 'logprobs': None, 'content_filter_results': {'hate': {'filtered': False, 'severity': 'safe'}, 'protected_material_code': {'filtered': False, 'detected': False}, 'protected_material_text': {'filtered': False, 'detected': False}, 'self_harm': {'filtered': False, 'severity': 'safe'}, 'sexual': {'filtered': False, 'severity': 'safe'}, 'violence': {'filtered': False, 'severity': 'safe'}}}, 'type': 'ai', 'name': None, 'id': 'run--6efd4b4a-97c6-41dd-8cba-cd1791445207-0', 'example': False, 'tool_calls': [], 'invalid_tool_calls': [], 'usage_metadata': {'input_tokens': 585, 'output_tokens': 11, 'total_tokens': 596, 'input_token_details': {'audio': 0, 'cache_read': 0}, 'output_token_details': {'audio': 0, 'reasoning': 0}}}, {'content': 'where can i find the best bagel?', 'additional_kwargs': {}, 'response_metadata': {}, 'type': 'human', 'name': None, 'id': '39346737-a9ae-4256-98a8-1cece84df24d', 'example': False}, {'content': '', 'additional_kwargs': {'tool_calls': [{'id': 'call_ViWTvmbbDC79jTg1y5rxO2kJ', 'function': {'arguments': '{\"query\":\"best bagel places 2025\"}', 'name': 'search'}, 'type': 'function'}], 'refusal': None}, 'response_metadata': {'token_usage': {'completion_tokens': 20, 'prompt_tokens': 611, 'total_tokens': 631, 'completion_tokens_details': {'accepted_prediction_tokens': 0, 'audio_tokens': 0, 'reasoning_tokens': 0, 'rejected_prediction_tokens': 0}, 'prompt_tokens_details': {'audio_tokens': 0, 'cached_tokens': 0}}, 'model_name': 'gpt-4o-2024-08-06', 'system_fingerprint': 'fp_ee1d74bde0', 'id': 'chatcmpl-BqrK6rpPsZGu1Xp2Wueh1aBCotPRW', 'service_tier': None, 'prompt_filter_results': [{'prompt_index': 0, 'content_filter_results': {'hate': {'filtered': False, 'severity': 'safe'}, 'jailbreak': {'filtered': False, 'detected': False}, 'self_harm': {'filtered': False, 'severity': 'safe'}, 'sexual': {'filtered': False, 'severity': 'safe'}, 'violence': {'filtered': False, 'severity': 'safe'}}}], 'finish_reason': 'tool_calls', 'logprobs': None, 'content_filter_results': {}}, 'type': 'ai', 'name': None, 'id': 'run--9ece7b6f-6246-499c-9723-278972b9a6f4-0', 'example': False, 'tool_calls': [{'name': 'search', 'args': {'query': 'best bagel places 2025'}, 'id': 'call_ViWTvmbbDC79jTg1y5rxO2kJ', 'type': 'tool_call'}], 'invalid_tool_calls': [], 'usage_metadata': {'input_tokens': 611, 'output_tokens': 20, 'total_tokens': 631, 'input_token_details': {'audio': 0, 'cache_read': 0}, 'output_token_details': {'audio': 0, 'reasoning': 0}}}]})\n",
      "StreamPart(event='values', data={'messages': [{'content': '你好？', 'additional_kwargs': {}, 'response_metadata': {}, 'type': 'human', 'name': None, 'id': '81ffc917-059d-4f3f-bb62-05713bef121b', 'example': False}, {'content': '你好！有什么我可以帮助您的吗？', 'additional_kwargs': {'refusal': None}, 'response_metadata': {'token_usage': {'completion_tokens': 11, 'prompt_tokens': 585, 'total_tokens': 596, 'completion_tokens_details': {'accepted_prediction_tokens': 0, 'audio_tokens': 0, 'reasoning_tokens': 0, 'rejected_prediction_tokens': 0}, 'prompt_tokens_details': {'audio_tokens': 0, 'cached_tokens': 0}}, 'model_name': 'gpt-4o-2024-08-06', 'system_fingerprint': 'fp_ee1d74bde0', 'id': 'chatcmpl-BqrJxC5hE2a3qBfzfFBFw3kcI9uVJ', 'service_tier': None, 'prompt_filter_results': [{'prompt_index': 0, 'content_filter_results': {'hate': {'filtered': False, 'severity': 'safe'}, 'jailbreak': {'filtered': False, 'detected': False}, 'self_harm': {'filtered': False, 'severity': 'safe'}, 'sexual': {'filtered': False, 'severity': 'safe'}, 'violence': {'filtered': False, 'severity': 'safe'}}}], 'finish_reason': 'stop', 'logprobs': None, 'content_filter_results': {'hate': {'filtered': False, 'severity': 'safe'}, 'protected_material_code': {'filtered': False, 'detected': False}, 'protected_material_text': {'filtered': False, 'detected': False}, 'self_harm': {'filtered': False, 'severity': 'safe'}, 'sexual': {'filtered': False, 'severity': 'safe'}, 'violence': {'filtered': False, 'severity': 'safe'}}}, 'type': 'ai', 'name': None, 'id': 'run--6efd4b4a-97c6-41dd-8cba-cd1791445207-0', 'example': False, 'tool_calls': [], 'invalid_tool_calls': [], 'usage_metadata': {'input_tokens': 585, 'output_tokens': 11, 'total_tokens': 596, 'input_token_details': {'audio': 0, 'cache_read': 0}, 'output_token_details': {'audio': 0, 'reasoning': 0}}}, {'content': 'where can i find the best bagel?', 'additional_kwargs': {}, 'response_metadata': {}, 'type': 'human', 'name': None, 'id': '39346737-a9ae-4256-98a8-1cece84df24d', 'example': False}, {'content': '', 'additional_kwargs': {'tool_calls': [{'id': 'call_ViWTvmbbDC79jTg1y5rxO2kJ', 'function': {'arguments': '{\"query\":\"best bagel places 2025\"}', 'name': 'search'}, 'type': 'function'}], 'refusal': None}, 'response_metadata': {'token_usage': {'completion_tokens': 20, 'prompt_tokens': 611, 'total_tokens': 631, 'completion_tokens_details': {'accepted_prediction_tokens': 0, 'audio_tokens': 0, 'reasoning_tokens': 0, 'rejected_prediction_tokens': 0}, 'prompt_tokens_details': {'audio_tokens': 0, 'cached_tokens': 0}}, 'model_name': 'gpt-4o-2024-08-06', 'system_fingerprint': 'fp_ee1d74bde0', 'id': 'chatcmpl-BqrK6rpPsZGu1Xp2Wueh1aBCotPRW', 'service_tier': None, 'prompt_filter_results': [{'prompt_index': 0, 'content_filter_results': {'hate': {'filtered': False, 'severity': 'safe'}, 'jailbreak': {'filtered': False, 'detected': False}, 'self_harm': {'filtered': False, 'severity': 'safe'}, 'sexual': {'filtered': False, 'severity': 'safe'}, 'violence': {'filtered': False, 'severity': 'safe'}}}], 'finish_reason': 'tool_calls', 'logprobs': None, 'content_filter_results': {}}, 'type': 'ai', 'name': None, 'id': 'run--9ece7b6f-6246-499c-9723-278972b9a6f4-0', 'example': False, 'tool_calls': [{'name': 'search', 'args': {'query': 'best bagel places 2025'}, 'id': 'call_ViWTvmbbDC79jTg1y5rxO2kJ', 'type': 'tool_call'}], 'invalid_tool_calls': [], 'usage_metadata': {'input_tokens': 611, 'output_tokens': 20, 'total_tokens': 631, 'input_token_details': {'audio': 0, 'cache_read': 0}, 'output_token_details': {'audio': 0, 'reasoning': 0}}}, {'content': 'Configuration(system_prompt=\"Your name is Annexx, an excellent data scientist agent for business intelligence.\\\\nYou are working on a database whose data is all about ... project. The current date is {time}.\\\\nGiven an input question, create a syntactically correct {dialect} query to run, then look at the results of the query and return the answer.\\\\nUnless the user specifies in his question a specific number of examples they wish to obtain, always limit your query to at most {limit} results.\\\\n\\\\nYou can order the results by a relevant column to return the most interesting examples in the database.\\\\nNever query for all the columns from a specific table, only ask for the relevant columns given the question.\\\\nYou have access to tools for interacting with the database. Please make full use of them.\\\\nNotice that, your audience are not as professional as you are, so you should not mention words like SQL table schema or SQL clauses, or output with json-like formats, etc.\\\\nJust give your conclusion, or your audience would be confusing.\\\\nPay attention to use functions to get current date, current month or current year, if the question does not explicitly provide a date.\\\\n\\\\nDO NOT make any DML statements (INSERT, UPDATE, DELETE, DROP etc.) to the database.\\\\nTo start you should ALWAYS look at the tables in the database to see what you can query. Do NOT skip this step.\\\\nThen you should query the schema of the most relevant tables.\\\\n\\\\nIf the SQL query result is partial due to length limitations, you can call the `show_chart` or `show_table` tool to display the complete result if suitable.\\\\nYou can encourage the user to provide more details to narrow down the query range.\\\\n\\\\nYour text response content for showing table or chart should only contain success information or encourage inputting more details, do not contain real data or url in your text response.\\\\n\\\\nVERY IMPORTANT! If the input question asks you to predict something (e.g., an input contains word `will`),\\\\nyou should answer it based on your analysis but do not try to query it directly because the data user wants does not actually exist.\\\\nVERY IMPORTANT! When performing time comparisons, use greater than or less than instead of equals to.\\\\nVERY IMPORTANT! If you get irrelevant or empty data, just state information is unavailable, DO NOT fabricate any data!!!\\\\n\\\\n\\\\n* Below are some references, You should read them thoroughly but you don\\'t have to follow them if they are irrelevant:\\\\n\", model=\\'azure_openai:gpt-4o\\')', 'additional_kwargs': {}, 'response_metadata': {}, 'type': 'tool', 'name': 'search', 'id': '070f82fd-aa95-48a7-872a-69cf2420989d', 'tool_call_id': 'call_ViWTvmbbDC79jTg1y5rxO2kJ', 'artifact': None, 'status': 'success'}]})\n",
      "StreamPart(event='values', data={'messages': [{'content': '你好？', 'additional_kwargs': {}, 'response_metadata': {}, 'type': 'human', 'name': None, 'id': '81ffc917-059d-4f3f-bb62-05713bef121b', 'example': False}, {'content': '你好！有什么我可以帮助您的吗？', 'additional_kwargs': {'refusal': None}, 'response_metadata': {'token_usage': {'completion_tokens': 11, 'prompt_tokens': 585, 'total_tokens': 596, 'completion_tokens_details': {'accepted_prediction_tokens': 0, 'audio_tokens': 0, 'reasoning_tokens': 0, 'rejected_prediction_tokens': 0}, 'prompt_tokens_details': {'audio_tokens': 0, 'cached_tokens': 0}}, 'model_name': 'gpt-4o-2024-08-06', 'system_fingerprint': 'fp_ee1d74bde0', 'id': 'chatcmpl-BqrJxC5hE2a3qBfzfFBFw3kcI9uVJ', 'service_tier': None, 'prompt_filter_results': [{'prompt_index': 0, 'content_filter_results': {'hate': {'filtered': False, 'severity': 'safe'}, 'jailbreak': {'filtered': False, 'detected': False}, 'self_harm': {'filtered': False, 'severity': 'safe'}, 'sexual': {'filtered': False, 'severity': 'safe'}, 'violence': {'filtered': False, 'severity': 'safe'}}}], 'finish_reason': 'stop', 'logprobs': None, 'content_filter_results': {'hate': {'filtered': False, 'severity': 'safe'}, 'protected_material_code': {'filtered': False, 'detected': False}, 'protected_material_text': {'filtered': False, 'detected': False}, 'self_harm': {'filtered': False, 'severity': 'safe'}, 'sexual': {'filtered': False, 'severity': 'safe'}, 'violence': {'filtered': False, 'severity': 'safe'}}}, 'type': 'ai', 'name': None, 'id': 'run--6efd4b4a-97c6-41dd-8cba-cd1791445207-0', 'example': False, 'tool_calls': [], 'invalid_tool_calls': [], 'usage_metadata': {'input_tokens': 585, 'output_tokens': 11, 'total_tokens': 596, 'input_token_details': {'audio': 0, 'cache_read': 0}, 'output_token_details': {'audio': 0, 'reasoning': 0}}}, {'content': 'where can i find the best bagel?', 'additional_kwargs': {}, 'response_metadata': {}, 'type': 'human', 'name': None, 'id': '39346737-a9ae-4256-98a8-1cece84df24d', 'example': False}, {'content': '', 'additional_kwargs': {'tool_calls': [{'id': 'call_ViWTvmbbDC79jTg1y5rxO2kJ', 'function': {'arguments': '{\"query\":\"best bagel places 2025\"}', 'name': 'search'}, 'type': 'function'}], 'refusal': None}, 'response_metadata': {'token_usage': {'completion_tokens': 20, 'prompt_tokens': 611, 'total_tokens': 631, 'completion_tokens_details': {'accepted_prediction_tokens': 0, 'audio_tokens': 0, 'reasoning_tokens': 0, 'rejected_prediction_tokens': 0}, 'prompt_tokens_details': {'audio_tokens': 0, 'cached_tokens': 0}}, 'model_name': 'gpt-4o-2024-08-06', 'system_fingerprint': 'fp_ee1d74bde0', 'id': 'chatcmpl-BqrK6rpPsZGu1Xp2Wueh1aBCotPRW', 'service_tier': None, 'prompt_filter_results': [{'prompt_index': 0, 'content_filter_results': {'hate': {'filtered': False, 'severity': 'safe'}, 'jailbreak': {'filtered': False, 'detected': False}, 'self_harm': {'filtered': False, 'severity': 'safe'}, 'sexual': {'filtered': False, 'severity': 'safe'}, 'violence': {'filtered': False, 'severity': 'safe'}}}], 'finish_reason': 'tool_calls', 'logprobs': None, 'content_filter_results': {}}, 'type': 'ai', 'name': None, 'id': 'run--9ece7b6f-6246-499c-9723-278972b9a6f4-0', 'example': False, 'tool_calls': [{'name': 'search', 'args': {'query': 'best bagel places 2025'}, 'id': 'call_ViWTvmbbDC79jTg1y5rxO2kJ', 'type': 'tool_call'}], 'invalid_tool_calls': [], 'usage_metadata': {'input_tokens': 611, 'output_tokens': 20, 'total_tokens': 631, 'input_token_details': {'audio': 0, 'cache_read': 0}, 'output_token_details': {'audio': 0, 'reasoning': 0}}}, {'content': 'Configuration(system_prompt=\"Your name is Annexx, an excellent data scientist agent for business intelligence.\\\\nYou are working on a database whose data is all about ... project. The current date is {time}.\\\\nGiven an input question, create a syntactically correct {dialect} query to run, then look at the results of the query and return the answer.\\\\nUnless the user specifies in his question a specific number of examples they wish to obtain, always limit your query to at most {limit} results.\\\\n\\\\nYou can order the results by a relevant column to return the most interesting examples in the database.\\\\nNever query for all the columns from a specific table, only ask for the relevant columns given the question.\\\\nYou have access to tools for interacting with the database. Please make full use of them.\\\\nNotice that, your audience are not as professional as you are, so you should not mention words like SQL table schema or SQL clauses, or output with json-like formats, etc.\\\\nJust give your conclusion, or your audience would be confusing.\\\\nPay attention to use functions to get current date, current month or current year, if the question does not explicitly provide a date.\\\\n\\\\nDO NOT make any DML statements (INSERT, UPDATE, DELETE, DROP etc.) to the database.\\\\nTo start you should ALWAYS look at the tables in the database to see what you can query. Do NOT skip this step.\\\\nThen you should query the schema of the most relevant tables.\\\\n\\\\nIf the SQL query result is partial due to length limitations, you can call the `show_chart` or `show_table` tool to display the complete result if suitable.\\\\nYou can encourage the user to provide more details to narrow down the query range.\\\\n\\\\nYour text response content for showing table or chart should only contain success information or encourage inputting more details, do not contain real data or url in your text response.\\\\n\\\\nVERY IMPORTANT! If the input question asks you to predict something (e.g., an input contains word `will`),\\\\nyou should answer it based on your analysis but do not try to query it directly because the data user wants does not actually exist.\\\\nVERY IMPORTANT! When performing time comparisons, use greater than or less than instead of equals to.\\\\nVERY IMPORTANT! If you get irrelevant or empty data, just state information is unavailable, DO NOT fabricate any data!!!\\\\n\\\\n\\\\n* Below are some references, You should read them thoroughly but you don\\'t have to follow them if they are irrelevant:\\\\n\", model=\\'azure_openai:gpt-4o\\')', 'additional_kwargs': {}, 'response_metadata': {}, 'type': 'tool', 'name': 'search', 'id': '070f82fd-aa95-48a7-872a-69cf2420989d', 'tool_call_id': 'call_ViWTvmbbDC79jTg1y5rxO2kJ', 'artifact': None, 'status': 'success'}, {'content': 'To find the best bagel places, you can check out popular bagel shops like \"Ess-a-Bagel\" in New York City, \"St-Viateur Bagel\" in Montreal, or \"Bagel Hole\" in Brooklyn. These places are often recommended for their delicious bagels. You might also want to look for local reviews or food blogs for more recent recommendations in your area.', 'additional_kwargs': {'refusal': None}, 'response_metadata': {'token_usage': {'completion_tokens': 82, 'prompt_tokens': 1169, 'total_tokens': 1251, 'completion_tokens_details': {'accepted_prediction_tokens': 0, 'audio_tokens': 0, 'reasoning_tokens': 0, 'rejected_prediction_tokens': 0}, 'prompt_tokens_details': {'audio_tokens': 0, 'cached_tokens': 0}}, 'model_name': 'gpt-4o-2024-08-06', 'system_fingerprint': 'fp_ee1d74bde0', 'id': 'chatcmpl-BqrK70todg6paNymTXFx0QLLdOwgp', 'service_tier': None, 'prompt_filter_results': [{'prompt_index': 0, 'content_filter_results': {'hate': {'filtered': False, 'severity': 'safe'}, 'jailbreak': {'filtered': False, 'detected': False}, 'self_harm': {'filtered': False, 'severity': 'safe'}, 'sexual': {'filtered': False, 'severity': 'safe'}, 'violence': {'filtered': False, 'severity': 'safe'}}}], 'finish_reason': 'stop', 'logprobs': None, 'content_filter_results': {'hate': {'filtered': False, 'severity': 'safe'}, 'protected_material_code': {'filtered': False, 'detected': False}, 'protected_material_text': {'filtered': False, 'detected': False}, 'self_harm': {'filtered': False, 'severity': 'safe'}, 'sexual': {'filtered': False, 'severity': 'safe'}, 'violence': {'filtered': False, 'severity': 'safe'}}}, 'type': 'ai', 'name': None, 'id': 'run--8a532122-23bc-475b-abf0-dddd97f0a5ba-0', 'example': False, 'tool_calls': [], 'invalid_tool_calls': [], 'usage_metadata': {'input_tokens': 1169, 'output_tokens': 82, 'total_tokens': 1251, 'input_token_details': {'audio': 0, 'cache_read': 0}, 'output_token_details': {'audio': 0, 'reasoning': 0}}}]})\n"
     ]
    }
   ],
   "source": [
    "for i in result:\n",
    "    print(i)"
   ]
  },
  {
   "cell_type": "code",
   "execution_count": 7,
   "id": "cd8793d8",
   "metadata": {},
   "outputs": [
    {
     "name": "stdout",
     "output_type": "stream",
     "text": [
      "1f05b99f-a4cb-62d8-8006-4325dd616c32\n",
      "1f05b99f-8f78-658f-8005-1e148138e2ac\n",
      "1f05b99f-8f73-699a-8004-764ce71523ae\n",
      "1f05b99f-7e2d-66e4-8003-32ea80800011\n",
      "1f05b99f-7e2b-6fc0-8002-368e6121b786\n",
      "1f05b99f-3ae1-6e12-8001-2e90b8604a83\n",
      "1f05b99f-2bc5-6720-8000-5b64827bf8d4\n",
      "1f05b99f-2bc3-601d-bfff-1ada70651756\n"
     ]
    }
   ],
   "source": [
    "# The states are returned in reverse chronological order.\n",
    "states = client.threads.get_history(thread_id)\n",
    "for s in states:\n",
    "    print(s['checkpoint_id'])"
   ]
  },
  {
   "cell_type": "code",
   "execution_count": 8,
   "id": "2bed8818",
   "metadata": {},
   "outputs": [
    {
     "name": "stdout",
     "output_type": "stream",
     "text": [
      "{'content': '你好？', 'additional_kwargs': {}, 'response_metadata': {}, 'type': 'human', 'name': None, 'id': '81ffc917-059d-4f3f-bb62-05713bef121b', 'example': False}\n",
      "{'content': '你好！有什么我可以帮助您的吗？', 'additional_kwargs': {'refusal': None}, 'response_metadata': {'token_usage': {'completion_tokens': 11, 'prompt_tokens': 585, 'total_tokens': 596, 'completion_tokens_details': {'accepted_prediction_tokens': 0, 'audio_tokens': 0, 'reasoning_tokens': 0, 'rejected_prediction_tokens': 0}, 'prompt_tokens_details': {'audio_tokens': 0, 'cached_tokens': 0}}, 'model_name': 'gpt-4o-2024-08-06', 'system_fingerprint': 'fp_ee1d74bde0', 'id': 'chatcmpl-BqrJxC5hE2a3qBfzfFBFw3kcI9uVJ', 'service_tier': None, 'prompt_filter_results': [{'prompt_index': 0, 'content_filter_results': {'hate': {'filtered': False, 'severity': 'safe'}, 'jailbreak': {'filtered': False, 'detected': False}, 'self_harm': {'filtered': False, 'severity': 'safe'}, 'sexual': {'filtered': False, 'severity': 'safe'}, 'violence': {'filtered': False, 'severity': 'safe'}}}], 'finish_reason': 'stop', 'logprobs': None, 'content_filter_results': {'hate': {'filtered': False, 'severity': 'safe'}, 'protected_material_code': {'filtered': False, 'detected': False}, 'protected_material_text': {'filtered': False, 'detected': False}, 'self_harm': {'filtered': False, 'severity': 'safe'}, 'sexual': {'filtered': False, 'severity': 'safe'}, 'violence': {'filtered': False, 'severity': 'safe'}}}, 'type': 'ai', 'name': None, 'id': 'run--6efd4b4a-97c6-41dd-8cba-cd1791445207-0', 'example': False, 'tool_calls': [], 'invalid_tool_calls': [], 'usage_metadata': {'input_tokens': 585, 'output_tokens': 11, 'total_tokens': 596, 'input_token_details': {'audio': 0, 'cache_read': 0}, 'output_token_details': {'audio': 0, 'reasoning': 0}}}\n",
      "{'content': 'where can i find the best bagel?', 'additional_kwargs': {}, 'response_metadata': {}, 'type': 'human', 'name': None, 'id': '39346737-a9ae-4256-98a8-1cece84df24d', 'example': False}\n",
      "{'content': '', 'additional_kwargs': {'tool_calls': [{'id': 'call_ViWTvmbbDC79jTg1y5rxO2kJ', 'function': {'arguments': '{\"query\":\"best bagel places 2025\"}', 'name': 'search'}, 'type': 'function'}], 'refusal': None}, 'response_metadata': {'token_usage': {'completion_tokens': 20, 'prompt_tokens': 611, 'total_tokens': 631, 'completion_tokens_details': {'accepted_prediction_tokens': 0, 'audio_tokens': 0, 'reasoning_tokens': 0, 'rejected_prediction_tokens': 0}, 'prompt_tokens_details': {'audio_tokens': 0, 'cached_tokens': 0}}, 'model_name': 'gpt-4o-2024-08-06', 'system_fingerprint': 'fp_ee1d74bde0', 'id': 'chatcmpl-BqrK6rpPsZGu1Xp2Wueh1aBCotPRW', 'service_tier': None, 'prompt_filter_results': [{'prompt_index': 0, 'content_filter_results': {'hate': {'filtered': False, 'severity': 'safe'}, 'jailbreak': {'filtered': False, 'detected': False}, 'self_harm': {'filtered': False, 'severity': 'safe'}, 'sexual': {'filtered': False, 'severity': 'safe'}, 'violence': {'filtered': False, 'severity': 'safe'}}}], 'finish_reason': 'tool_calls', 'logprobs': None, 'content_filter_results': {}}, 'type': 'ai', 'name': None, 'id': 'run--9ece7b6f-6246-499c-9723-278972b9a6f4-0', 'example': False, 'tool_calls': [{'name': 'search', 'args': {'query': 'best bagel places 2025'}, 'id': 'call_ViWTvmbbDC79jTg1y5rxO2kJ', 'type': 'tool_call'}], 'invalid_tool_calls': [], 'usage_metadata': {'input_tokens': 611, 'output_tokens': 20, 'total_tokens': 631, 'input_token_details': {'audio': 0, 'cache_read': 0}, 'output_token_details': {'audio': 0, 'reasoning': 0}}}\n",
      "{'content': 'Configuration(system_prompt=\"Your name is Annexx, an excellent data scientist agent for business intelligence.\\\\nYou are working on a database whose data is all about ... project. The current date is {time}.\\\\nGiven an input question, create a syntactically correct {dialect} query to run, then look at the results of the query and return the answer.\\\\nUnless the user specifies in his question a specific number of examples they wish to obtain, always limit your query to at most {limit} results.\\\\n\\\\nYou can order the results by a relevant column to return the most interesting examples in the database.\\\\nNever query for all the columns from a specific table, only ask for the relevant columns given the question.\\\\nYou have access to tools for interacting with the database. Please make full use of them.\\\\nNotice that, your audience are not as professional as you are, so you should not mention words like SQL table schema or SQL clauses, or output with json-like formats, etc.\\\\nJust give your conclusion, or your audience would be confusing.\\\\nPay attention to use functions to get current date, current month or current year, if the question does not explicitly provide a date.\\\\n\\\\nDO NOT make any DML statements (INSERT, UPDATE, DELETE, DROP etc.) to the database.\\\\nTo start you should ALWAYS look at the tables in the database to see what you can query. Do NOT skip this step.\\\\nThen you should query the schema of the most relevant tables.\\\\n\\\\nIf the SQL query result is partial due to length limitations, you can call the `show_chart` or `show_table` tool to display the complete result if suitable.\\\\nYou can encourage the user to provide more details to narrow down the query range.\\\\n\\\\nYour text response content for showing table or chart should only contain success information or encourage inputting more details, do not contain real data or url in your text response.\\\\n\\\\nVERY IMPORTANT! If the input question asks you to predict something (e.g., an input contains word `will`),\\\\nyou should answer it based on your analysis but do not try to query it directly because the data user wants does not actually exist.\\\\nVERY IMPORTANT! When performing time comparisons, use greater than or less than instead of equals to.\\\\nVERY IMPORTANT! If you get irrelevant or empty data, just state information is unavailable, DO NOT fabricate any data!!!\\\\n\\\\n\\\\n* Below are some references, You should read them thoroughly but you don\\'t have to follow them if they are irrelevant:\\\\n\", model=\\'azure_openai:gpt-4o\\')', 'additional_kwargs': {}, 'response_metadata': {}, 'type': 'tool', 'name': 'search', 'id': '070f82fd-aa95-48a7-872a-69cf2420989d', 'tool_call_id': 'call_ViWTvmbbDC79jTg1y5rxO2kJ', 'artifact': None, 'status': 'success'}\n",
      "{'content': 'To find the best bagel places, you can check out popular bagel shops like \"Ess-a-Bagel\" in New York City, \"St-Viateur Bagel\" in Montreal, or \"Bagel Hole\" in Brooklyn. These places are often recommended for their delicious bagels. You might also want to look for local reviews or food blogs for more recent recommendations in your area.', 'additional_kwargs': {'refusal': None}, 'response_metadata': {'token_usage': {'completion_tokens': 82, 'prompt_tokens': 1169, 'total_tokens': 1251, 'completion_tokens_details': {'accepted_prediction_tokens': 0, 'audio_tokens': 0, 'reasoning_tokens': 0, 'rejected_prediction_tokens': 0}, 'prompt_tokens_details': {'audio_tokens': 0, 'cached_tokens': 0}}, 'model_name': 'gpt-4o-2024-08-06', 'system_fingerprint': 'fp_ee1d74bde0', 'id': 'chatcmpl-BqrK70todg6paNymTXFx0QLLdOwgp', 'service_tier': None, 'prompt_filter_results': [{'prompt_index': 0, 'content_filter_results': {'hate': {'filtered': False, 'severity': 'safe'}, 'jailbreak': {'filtered': False, 'detected': False}, 'self_harm': {'filtered': False, 'severity': 'safe'}, 'sexual': {'filtered': False, 'severity': 'safe'}, 'violence': {'filtered': False, 'severity': 'safe'}}}], 'finish_reason': 'stop', 'logprobs': None, 'content_filter_results': {'hate': {'filtered': False, 'severity': 'safe'}, 'protected_material_code': {'filtered': False, 'detected': False}, 'protected_material_text': {'filtered': False, 'detected': False}, 'self_harm': {'filtered': False, 'severity': 'safe'}, 'sexual': {'filtered': False, 'severity': 'safe'}, 'violence': {'filtered': False, 'severity': 'safe'}}}, 'type': 'ai', 'name': None, 'id': 'run--8a532122-23bc-475b-abf0-dddd97f0a5ba-0', 'example': False, 'tool_calls': [], 'invalid_tool_calls': [], 'usage_metadata': {'input_tokens': 1169, 'output_tokens': 82, 'total_tokens': 1251, 'input_token_details': {'audio': 0, 'cache_read': 0}, 'output_token_details': {'audio': 0, 'reasoning': 0}}}\n"
     ]
    }
   ],
   "source": [
    "for m in states[0][\"values\"][\"messages\"]:\n",
    "    print(m)"
   ]
  },
  {
   "cell_type": "code",
   "execution_count": 10,
   "id": "c07ecd76",
   "metadata": {},
   "outputs": [
    {
     "name": "stdout",
     "output_type": "stream",
     "text": [
      "[{'content': '你好？', 'additional_kwargs': {}, 'response_metadata': {}, 'type': 'human', 'name': None, 'id': '81ffc917-059d-4f3f-bb62-05713bef121b', 'example': False}, {'content': '你好！有什么我可以帮助您的吗？', 'additional_kwargs': {'refusal': None}, 'response_metadata': {'token_usage': {'completion_tokens': 11, 'prompt_tokens': 585, 'total_tokens': 596, 'completion_tokens_details': {'accepted_prediction_tokens': 0, 'audio_tokens': 0, 'reasoning_tokens': 0, 'rejected_prediction_tokens': 0}, 'prompt_tokens_details': {'audio_tokens': 0, 'cached_tokens': 0}}, 'model_name': 'gpt-4o-2024-08-06', 'system_fingerprint': 'fp_ee1d74bde0', 'id': 'chatcmpl-BqrJxC5hE2a3qBfzfFBFw3kcI9uVJ', 'service_tier': None, 'prompt_filter_results': [{'prompt_index': 0, 'content_filter_results': {'hate': {'filtered': False, 'severity': 'safe'}, 'jailbreak': {'filtered': False, 'detected': False}, 'self_harm': {'filtered': False, 'severity': 'safe'}, 'sexual': {'filtered': False, 'severity': 'safe'}, 'violence': {'filtered': False, 'severity': 'safe'}}}], 'finish_reason': 'stop', 'logprobs': None, 'content_filter_results': {'hate': {'filtered': False, 'severity': 'safe'}, 'protected_material_code': {'filtered': False, 'detected': False}, 'protected_material_text': {'filtered': False, 'detected': False}, 'self_harm': {'filtered': False, 'severity': 'safe'}, 'sexual': {'filtered': False, 'severity': 'safe'}, 'violence': {'filtered': False, 'severity': 'safe'}}}, 'type': 'ai', 'name': None, 'id': 'run--6efd4b4a-97c6-41dd-8cba-cd1791445207-0', 'example': False, 'tool_calls': [], 'invalid_tool_calls': [], 'usage_metadata': {'input_tokens': 585, 'output_tokens': 11, 'total_tokens': 596, 'input_token_details': {'audio': 0, 'cache_read': 0}, 'output_token_details': {'audio': 0, 'reasoning': 0}}}, {'content': 'where can i find the best bagel?', 'additional_kwargs': {}, 'response_metadata': {}, 'type': 'human', 'name': None, 'id': '39346737-a9ae-4256-98a8-1cece84df24d', 'example': False}, {'content': '', 'additional_kwargs': {'tool_calls': [{'id': 'call_ViWTvmbbDC79jTg1y5rxO2kJ', 'function': {'arguments': '{\"query\":\"best bagel places 2025\"}', 'name': 'search'}, 'type': 'function'}], 'refusal': None}, 'response_metadata': {'token_usage': {'completion_tokens': 20, 'prompt_tokens': 611, 'total_tokens': 631, 'completion_tokens_details': {'accepted_prediction_tokens': 0, 'audio_tokens': 0, 'reasoning_tokens': 0, 'rejected_prediction_tokens': 0}, 'prompt_tokens_details': {'audio_tokens': 0, 'cached_tokens': 0}}, 'model_name': 'gpt-4o-2024-08-06', 'system_fingerprint': 'fp_ee1d74bde0', 'id': 'chatcmpl-BqrK6rpPsZGu1Xp2Wueh1aBCotPRW', 'service_tier': None, 'prompt_filter_results': [{'prompt_index': 0, 'content_filter_results': {'hate': {'filtered': False, 'severity': 'safe'}, 'jailbreak': {'filtered': False, 'detected': False}, 'self_harm': {'filtered': False, 'severity': 'safe'}, 'sexual': {'filtered': False, 'severity': 'safe'}, 'violence': {'filtered': False, 'severity': 'safe'}}}], 'finish_reason': 'tool_calls', 'logprobs': None, 'content_filter_results': {}}, 'type': 'ai', 'name': None, 'id': 'run--9ece7b6f-6246-499c-9723-278972b9a6f4-0', 'example': False, 'tool_calls': [{'name': 'search', 'args': {'query': 'best bagel places 2025'}, 'id': 'call_ViWTvmbbDC79jTg1y5rxO2kJ', 'type': 'tool_call'}], 'invalid_tool_calls': [], 'usage_metadata': {'input_tokens': 611, 'output_tokens': 20, 'total_tokens': 631, 'input_token_details': {'audio': 0, 'cache_read': 0}, 'output_token_details': {'audio': 0, 'reasoning': 0}}}, {'content': 'Configuration(system_prompt=\"Your name is Annexx, an excellent data scientist agent for business intelligence.\\\\nYou are working on a database whose data is all about ... project. The current date is {time}.\\\\nGiven an input question, create a syntactically correct {dialect} query to run, then look at the results of the query and return the answer.\\\\nUnless the user specifies in his question a specific number of examples they wish to obtain, always limit your query to at most {limit} results.\\\\n\\\\nYou can order the results by a relevant column to return the most interesting examples in the database.\\\\nNever query for all the columns from a specific table, only ask for the relevant columns given the question.\\\\nYou have access to tools for interacting with the database. Please make full use of them.\\\\nNotice that, your audience are not as professional as you are, so you should not mention words like SQL table schema or SQL clauses, or output with json-like formats, etc.\\\\nJust give your conclusion, or your audience would be confusing.\\\\nPay attention to use functions to get current date, current month or current year, if the question does not explicitly provide a date.\\\\n\\\\nDO NOT make any DML statements (INSERT, UPDATE, DELETE, DROP etc.) to the database.\\\\nTo start you should ALWAYS look at the tables in the database to see what you can query. Do NOT skip this step.\\\\nThen you should query the schema of the most relevant tables.\\\\n\\\\nIf the SQL query result is partial due to length limitations, you can call the `show_chart` or `show_table` tool to display the complete result if suitable.\\\\nYou can encourage the user to provide more details to narrow down the query range.\\\\n\\\\nYour text response content for showing table or chart should only contain success information or encourage inputting more details, do not contain real data or url in your text response.\\\\n\\\\nVERY IMPORTANT! If the input question asks you to predict something (e.g., an input contains word `will`),\\\\nyou should answer it based on your analysis but do not try to query it directly because the data user wants does not actually exist.\\\\nVERY IMPORTANT! When performing time comparisons, use greater than or less than instead of equals to.\\\\nVERY IMPORTANT! If you get irrelevant or empty data, just state information is unavailable, DO NOT fabricate any data!!!\\\\n\\\\n\\\\n* Below are some references, You should read them thoroughly but you don\\'t have to follow them if they are irrelevant:\\\\n\", model=\\'azure_openai:gpt-4o\\')', 'additional_kwargs': {}, 'response_metadata': {}, 'type': 'tool', 'name': 'search', 'id': '070f82fd-aa95-48a7-872a-69cf2420989d', 'tool_call_id': 'call_ViWTvmbbDC79jTg1y5rxO2kJ', 'artifact': None, 'status': 'success'}, {'content': 'To find the best bagel places, you can check out popular bagel shops like \"Ess-a-Bagel\" in New York City, \"St-Viateur Bagel\" in Montreal, or \"Bagel Hole\" in Brooklyn. These places are often recommended for their delicious bagels. You might also want to look for local reviews or food blogs for more recent recommendations in your area.', 'additional_kwargs': {'refusal': None}, 'response_metadata': {'token_usage': {'completion_tokens': 82, 'prompt_tokens': 1169, 'total_tokens': 1251, 'completion_tokens_details': {'accepted_prediction_tokens': 0, 'audio_tokens': 0, 'reasoning_tokens': 0, 'rejected_prediction_tokens': 0}, 'prompt_tokens_details': {'audio_tokens': 0, 'cached_tokens': 0}}, 'model_name': 'gpt-4o-2024-08-06', 'system_fingerprint': 'fp_ee1d74bde0', 'id': 'chatcmpl-BqrK70todg6paNymTXFx0QLLdOwgp', 'service_tier': None, 'prompt_filter_results': [{'prompt_index': 0, 'content_filter_results': {'hate': {'filtered': False, 'severity': 'safe'}, 'jailbreak': {'filtered': False, 'detected': False}, 'self_harm': {'filtered': False, 'severity': 'safe'}, 'sexual': {'filtered': False, 'severity': 'safe'}, 'violence': {'filtered': False, 'severity': 'safe'}}}], 'finish_reason': 'stop', 'logprobs': None, 'content_filter_results': {'hate': {'filtered': False, 'severity': 'safe'}, 'protected_material_code': {'filtered': False, 'detected': False}, 'protected_material_text': {'filtered': False, 'detected': False}, 'self_harm': {'filtered': False, 'severity': 'safe'}, 'sexual': {'filtered': False, 'severity': 'safe'}, 'violence': {'filtered': False, 'severity': 'safe'}}}, 'type': 'ai', 'name': None, 'id': 'run--8a532122-23bc-475b-abf0-dddd97f0a5ba-0', 'example': False, 'tool_calls': [], 'invalid_tool_calls': [], 'usage_metadata': {'input_tokens': 1169, 'output_tokens': 82, 'total_tokens': 1251, 'input_token_details': {'audio': 0, 'cache_read': 0}, 'output_token_details': {'audio': 0, 'reasoning': 0}}}]\n",
      "[{'content': '你好？', 'additional_kwargs': {}, 'response_metadata': {}, 'type': 'human', 'name': None, 'id': '81ffc917-059d-4f3f-bb62-05713bef121b', 'example': False}, {'content': '你好！有什么我可以帮助您的吗？', 'additional_kwargs': {'refusal': None}, 'response_metadata': {'token_usage': {'completion_tokens': 11, 'prompt_tokens': 585, 'total_tokens': 596, 'completion_tokens_details': {'accepted_prediction_tokens': 0, 'audio_tokens': 0, 'reasoning_tokens': 0, 'rejected_prediction_tokens': 0}, 'prompt_tokens_details': {'audio_tokens': 0, 'cached_tokens': 0}}, 'model_name': 'gpt-4o-2024-08-06', 'system_fingerprint': 'fp_ee1d74bde0', 'id': 'chatcmpl-BqrJxC5hE2a3qBfzfFBFw3kcI9uVJ', 'service_tier': None, 'prompt_filter_results': [{'prompt_index': 0, 'content_filter_results': {'hate': {'filtered': False, 'severity': 'safe'}, 'jailbreak': {'filtered': False, 'detected': False}, 'self_harm': {'filtered': False, 'severity': 'safe'}, 'sexual': {'filtered': False, 'severity': 'safe'}, 'violence': {'filtered': False, 'severity': 'safe'}}}], 'finish_reason': 'stop', 'logprobs': None, 'content_filter_results': {'hate': {'filtered': False, 'severity': 'safe'}, 'protected_material_code': {'filtered': False, 'detected': False}, 'protected_material_text': {'filtered': False, 'detected': False}, 'self_harm': {'filtered': False, 'severity': 'safe'}, 'sexual': {'filtered': False, 'severity': 'safe'}, 'violence': {'filtered': False, 'severity': 'safe'}}}, 'type': 'ai', 'name': None, 'id': 'run--6efd4b4a-97c6-41dd-8cba-cd1791445207-0', 'example': False, 'tool_calls': [], 'invalid_tool_calls': [], 'usage_metadata': {'input_tokens': 585, 'output_tokens': 11, 'total_tokens': 596, 'input_token_details': {'audio': 0, 'cache_read': 0}, 'output_token_details': {'audio': 0, 'reasoning': 0}}}, {'content': 'where can i find the best bagel?', 'additional_kwargs': {}, 'response_metadata': {}, 'type': 'human', 'name': None, 'id': '39346737-a9ae-4256-98a8-1cece84df24d', 'example': False}, {'content': '', 'additional_kwargs': {'tool_calls': [{'id': 'call_ViWTvmbbDC79jTg1y5rxO2kJ', 'function': {'arguments': '{\"query\":\"best bagel places 2025\"}', 'name': 'search'}, 'type': 'function'}], 'refusal': None}, 'response_metadata': {'token_usage': {'completion_tokens': 20, 'prompt_tokens': 611, 'total_tokens': 631, 'completion_tokens_details': {'accepted_prediction_tokens': 0, 'audio_tokens': 0, 'reasoning_tokens': 0, 'rejected_prediction_tokens': 0}, 'prompt_tokens_details': {'audio_tokens': 0, 'cached_tokens': 0}}, 'model_name': 'gpt-4o-2024-08-06', 'system_fingerprint': 'fp_ee1d74bde0', 'id': 'chatcmpl-BqrK6rpPsZGu1Xp2Wueh1aBCotPRW', 'service_tier': None, 'prompt_filter_results': [{'prompt_index': 0, 'content_filter_results': {'hate': {'filtered': False, 'severity': 'safe'}, 'jailbreak': {'filtered': False, 'detected': False}, 'self_harm': {'filtered': False, 'severity': 'safe'}, 'sexual': {'filtered': False, 'severity': 'safe'}, 'violence': {'filtered': False, 'severity': 'safe'}}}], 'finish_reason': 'tool_calls', 'logprobs': None, 'content_filter_results': {}}, 'type': 'ai', 'name': None, 'id': 'run--9ece7b6f-6246-499c-9723-278972b9a6f4-0', 'example': False, 'tool_calls': [{'name': 'search', 'args': {'query': 'best bagel places 2025'}, 'id': 'call_ViWTvmbbDC79jTg1y5rxO2kJ', 'type': 'tool_call'}], 'invalid_tool_calls': [], 'usage_metadata': {'input_tokens': 611, 'output_tokens': 20, 'total_tokens': 631, 'input_token_details': {'audio': 0, 'cache_read': 0}, 'output_token_details': {'audio': 0, 'reasoning': 0}}}, {'content': 'Configuration(system_prompt=\"Your name is Annexx, an excellent data scientist agent for business intelligence.\\\\nYou are working on a database whose data is all about ... project. The current date is {time}.\\\\nGiven an input question, create a syntactically correct {dialect} query to run, then look at the results of the query and return the answer.\\\\nUnless the user specifies in his question a specific number of examples they wish to obtain, always limit your query to at most {limit} results.\\\\n\\\\nYou can order the results by a relevant column to return the most interesting examples in the database.\\\\nNever query for all the columns from a specific table, only ask for the relevant columns given the question.\\\\nYou have access to tools for interacting with the database. Please make full use of them.\\\\nNotice that, your audience are not as professional as you are, so you should not mention words like SQL table schema or SQL clauses, or output with json-like formats, etc.\\\\nJust give your conclusion, or your audience would be confusing.\\\\nPay attention to use functions to get current date, current month or current year, if the question does not explicitly provide a date.\\\\n\\\\nDO NOT make any DML statements (INSERT, UPDATE, DELETE, DROP etc.) to the database.\\\\nTo start you should ALWAYS look at the tables in the database to see what you can query. Do NOT skip this step.\\\\nThen you should query the schema of the most relevant tables.\\\\n\\\\nIf the SQL query result is partial due to length limitations, you can call the `show_chart` or `show_table` tool to display the complete result if suitable.\\\\nYou can encourage the user to provide more details to narrow down the query range.\\\\n\\\\nYour text response content for showing table or chart should only contain success information or encourage inputting more details, do not contain real data or url in your text response.\\\\n\\\\nVERY IMPORTANT! If the input question asks you to predict something (e.g., an input contains word `will`),\\\\nyou should answer it based on your analysis but do not try to query it directly because the data user wants does not actually exist.\\\\nVERY IMPORTANT! When performing time comparisons, use greater than or less than instead of equals to.\\\\nVERY IMPORTANT! If you get irrelevant or empty data, just state information is unavailable, DO NOT fabricate any data!!!\\\\n\\\\n\\\\n* Below are some references, You should read them thoroughly but you don\\'t have to follow them if they are irrelevant:\\\\n\", model=\\'azure_openai:gpt-4o\\')', 'additional_kwargs': {}, 'response_metadata': {}, 'type': 'tool', 'name': 'search', 'id': '070f82fd-aa95-48a7-872a-69cf2420989d', 'tool_call_id': 'call_ViWTvmbbDC79jTg1y5rxO2kJ', 'artifact': None, 'status': 'success'}]\n",
      "[{'content': '你好？', 'additional_kwargs': {}, 'response_metadata': {}, 'type': 'human', 'name': None, 'id': '81ffc917-059d-4f3f-bb62-05713bef121b', 'example': False}, {'content': '你好！有什么我可以帮助您的吗？', 'additional_kwargs': {'refusal': None}, 'response_metadata': {'token_usage': {'completion_tokens': 11, 'prompt_tokens': 585, 'total_tokens': 596, 'completion_tokens_details': {'accepted_prediction_tokens': 0, 'audio_tokens': 0, 'reasoning_tokens': 0, 'rejected_prediction_tokens': 0}, 'prompt_tokens_details': {'audio_tokens': 0, 'cached_tokens': 0}}, 'model_name': 'gpt-4o-2024-08-06', 'system_fingerprint': 'fp_ee1d74bde0', 'id': 'chatcmpl-BqrJxC5hE2a3qBfzfFBFw3kcI9uVJ', 'service_tier': None, 'prompt_filter_results': [{'prompt_index': 0, 'content_filter_results': {'hate': {'filtered': False, 'severity': 'safe'}, 'jailbreak': {'filtered': False, 'detected': False}, 'self_harm': {'filtered': False, 'severity': 'safe'}, 'sexual': {'filtered': False, 'severity': 'safe'}, 'violence': {'filtered': False, 'severity': 'safe'}}}], 'finish_reason': 'stop', 'logprobs': None, 'content_filter_results': {'hate': {'filtered': False, 'severity': 'safe'}, 'protected_material_code': {'filtered': False, 'detected': False}, 'protected_material_text': {'filtered': False, 'detected': False}, 'self_harm': {'filtered': False, 'severity': 'safe'}, 'sexual': {'filtered': False, 'severity': 'safe'}, 'violence': {'filtered': False, 'severity': 'safe'}}}, 'type': 'ai', 'name': None, 'id': 'run--6efd4b4a-97c6-41dd-8cba-cd1791445207-0', 'example': False, 'tool_calls': [], 'invalid_tool_calls': [], 'usage_metadata': {'input_tokens': 585, 'output_tokens': 11, 'total_tokens': 596, 'input_token_details': {'audio': 0, 'cache_read': 0}, 'output_token_details': {'audio': 0, 'reasoning': 0}}}, {'content': 'where can i find the best bagel?', 'additional_kwargs': {}, 'response_metadata': {}, 'type': 'human', 'name': None, 'id': '39346737-a9ae-4256-98a8-1cece84df24d', 'example': False}, {'content': '', 'additional_kwargs': {'tool_calls': [{'id': 'call_ViWTvmbbDC79jTg1y5rxO2kJ', 'function': {'arguments': '{\"query\":\"best bagel places 2025\"}', 'name': 'search'}, 'type': 'function'}], 'refusal': None}, 'response_metadata': {'token_usage': {'completion_tokens': 20, 'prompt_tokens': 611, 'total_tokens': 631, 'completion_tokens_details': {'accepted_prediction_tokens': 0, 'audio_tokens': 0, 'reasoning_tokens': 0, 'rejected_prediction_tokens': 0}, 'prompt_tokens_details': {'audio_tokens': 0, 'cached_tokens': 0}}, 'model_name': 'gpt-4o-2024-08-06', 'system_fingerprint': 'fp_ee1d74bde0', 'id': 'chatcmpl-BqrK6rpPsZGu1Xp2Wueh1aBCotPRW', 'service_tier': None, 'prompt_filter_results': [{'prompt_index': 0, 'content_filter_results': {'hate': {'filtered': False, 'severity': 'safe'}, 'jailbreak': {'filtered': False, 'detected': False}, 'self_harm': {'filtered': False, 'severity': 'safe'}, 'sexual': {'filtered': False, 'severity': 'safe'}, 'violence': {'filtered': False, 'severity': 'safe'}}}], 'finish_reason': 'tool_calls', 'logprobs': None, 'content_filter_results': {}}, 'type': 'ai', 'name': None, 'id': 'run--9ece7b6f-6246-499c-9723-278972b9a6f4-0', 'example': False, 'tool_calls': [{'name': 'search', 'args': {'query': 'best bagel places 2025'}, 'id': 'call_ViWTvmbbDC79jTg1y5rxO2kJ', 'type': 'tool_call'}], 'invalid_tool_calls': [], 'usage_metadata': {'input_tokens': 611, 'output_tokens': 20, 'total_tokens': 631, 'input_token_details': {'audio': 0, 'cache_read': 0}, 'output_token_details': {'audio': 0, 'reasoning': 0}}}]\n",
      "[{'content': '你好？', 'additional_kwargs': {}, 'response_metadata': {}, 'type': 'human', 'name': None, 'id': '81ffc917-059d-4f3f-bb62-05713bef121b', 'example': False}, {'content': '你好！有什么我可以帮助您的吗？', 'additional_kwargs': {'refusal': None}, 'response_metadata': {'token_usage': {'completion_tokens': 11, 'prompt_tokens': 585, 'total_tokens': 596, 'completion_tokens_details': {'accepted_prediction_tokens': 0, 'audio_tokens': 0, 'reasoning_tokens': 0, 'rejected_prediction_tokens': 0}, 'prompt_tokens_details': {'audio_tokens': 0, 'cached_tokens': 0}}, 'model_name': 'gpt-4o-2024-08-06', 'system_fingerprint': 'fp_ee1d74bde0', 'id': 'chatcmpl-BqrJxC5hE2a3qBfzfFBFw3kcI9uVJ', 'service_tier': None, 'prompt_filter_results': [{'prompt_index': 0, 'content_filter_results': {'hate': {'filtered': False, 'severity': 'safe'}, 'jailbreak': {'filtered': False, 'detected': False}, 'self_harm': {'filtered': False, 'severity': 'safe'}, 'sexual': {'filtered': False, 'severity': 'safe'}, 'violence': {'filtered': False, 'severity': 'safe'}}}], 'finish_reason': 'stop', 'logprobs': None, 'content_filter_results': {'hate': {'filtered': False, 'severity': 'safe'}, 'protected_material_code': {'filtered': False, 'detected': False}, 'protected_material_text': {'filtered': False, 'detected': False}, 'self_harm': {'filtered': False, 'severity': 'safe'}, 'sexual': {'filtered': False, 'severity': 'safe'}, 'violence': {'filtered': False, 'severity': 'safe'}}}, 'type': 'ai', 'name': None, 'id': 'run--6efd4b4a-97c6-41dd-8cba-cd1791445207-0', 'example': False, 'tool_calls': [], 'invalid_tool_calls': [], 'usage_metadata': {'input_tokens': 585, 'output_tokens': 11, 'total_tokens': 596, 'input_token_details': {'audio': 0, 'cache_read': 0}, 'output_token_details': {'audio': 0, 'reasoning': 0}}}, {'content': 'where can i find the best bagel?', 'additional_kwargs': {}, 'response_metadata': {}, 'type': 'human', 'name': None, 'id': '39346737-a9ae-4256-98a8-1cece84df24d', 'example': False}]\n",
      "[{'content': '你好？', 'additional_kwargs': {}, 'response_metadata': {}, 'type': 'human', 'name': None, 'id': '81ffc917-059d-4f3f-bb62-05713bef121b', 'example': False}, {'content': '你好！有什么我可以帮助您的吗？', 'additional_kwargs': {'refusal': None}, 'response_metadata': {'token_usage': {'completion_tokens': 11, 'prompt_tokens': 585, 'total_tokens': 596, 'completion_tokens_details': {'accepted_prediction_tokens': 0, 'audio_tokens': 0, 'reasoning_tokens': 0, 'rejected_prediction_tokens': 0}, 'prompt_tokens_details': {'audio_tokens': 0, 'cached_tokens': 0}}, 'model_name': 'gpt-4o-2024-08-06', 'system_fingerprint': 'fp_ee1d74bde0', 'id': 'chatcmpl-BqrJxC5hE2a3qBfzfFBFw3kcI9uVJ', 'service_tier': None, 'prompt_filter_results': [{'prompt_index': 0, 'content_filter_results': {'hate': {'filtered': False, 'severity': 'safe'}, 'jailbreak': {'filtered': False, 'detected': False}, 'self_harm': {'filtered': False, 'severity': 'safe'}, 'sexual': {'filtered': False, 'severity': 'safe'}, 'violence': {'filtered': False, 'severity': 'safe'}}}], 'finish_reason': 'stop', 'logprobs': None, 'content_filter_results': {'hate': {'filtered': False, 'severity': 'safe'}, 'protected_material_code': {'filtered': False, 'detected': False}, 'protected_material_text': {'filtered': False, 'detected': False}, 'self_harm': {'filtered': False, 'severity': 'safe'}, 'sexual': {'filtered': False, 'severity': 'safe'}, 'violence': {'filtered': False, 'severity': 'safe'}}}, 'type': 'ai', 'name': None, 'id': 'run--6efd4b4a-97c6-41dd-8cba-cd1791445207-0', 'example': False, 'tool_calls': [], 'invalid_tool_calls': [], 'usage_metadata': {'input_tokens': 585, 'output_tokens': 11, 'total_tokens': 596, 'input_token_details': {'audio': 0, 'cache_read': 0}, 'output_token_details': {'audio': 0, 'reasoning': 0}}}]\n",
      "[{'content': '你好？', 'additional_kwargs': {}, 'response_metadata': {}, 'type': 'human', 'name': None, 'id': '81ffc917-059d-4f3f-bb62-05713bef121b', 'example': False}, {'content': '你好！有什么我可以帮助您的吗？', 'additional_kwargs': {'refusal': None}, 'response_metadata': {'token_usage': {'completion_tokens': 11, 'prompt_tokens': 585, 'total_tokens': 596, 'completion_tokens_details': {'accepted_prediction_tokens': 0, 'audio_tokens': 0, 'reasoning_tokens': 0, 'rejected_prediction_tokens': 0}, 'prompt_tokens_details': {'audio_tokens': 0, 'cached_tokens': 0}}, 'model_name': 'gpt-4o-2024-08-06', 'system_fingerprint': 'fp_ee1d74bde0', 'id': 'chatcmpl-BqrJxC5hE2a3qBfzfFBFw3kcI9uVJ', 'service_tier': None, 'prompt_filter_results': [{'prompt_index': 0, 'content_filter_results': {'hate': {'filtered': False, 'severity': 'safe'}, 'jailbreak': {'filtered': False, 'detected': False}, 'self_harm': {'filtered': False, 'severity': 'safe'}, 'sexual': {'filtered': False, 'severity': 'safe'}, 'violence': {'filtered': False, 'severity': 'safe'}}}], 'finish_reason': 'stop', 'logprobs': None, 'content_filter_results': {'hate': {'filtered': False, 'severity': 'safe'}, 'protected_material_code': {'filtered': False, 'detected': False}, 'protected_material_text': {'filtered': False, 'detected': False}, 'self_harm': {'filtered': False, 'severity': 'safe'}, 'sexual': {'filtered': False, 'severity': 'safe'}, 'violence': {'filtered': False, 'severity': 'safe'}}}, 'type': 'ai', 'name': None, 'id': 'run--6efd4b4a-97c6-41dd-8cba-cd1791445207-0', 'example': False, 'tool_calls': [], 'invalid_tool_calls': [], 'usage_metadata': {'input_tokens': 585, 'output_tokens': 11, 'total_tokens': 596, 'input_token_details': {'audio': 0, 'cache_read': 0}, 'output_token_details': {'audio': 0, 'reasoning': 0}}}]\n",
      "[{'content': '你好？', 'additional_kwargs': {}, 'response_metadata': {}, 'type': 'human', 'name': None, 'id': '81ffc917-059d-4f3f-bb62-05713bef121b', 'example': False}]\n",
      "[]\n"
     ]
    }
   ],
   "source": [
    "for s in states:\n",
    "    print(s[\"values\"][\"messages\"])"
   ]
  },
  {
   "cell_type": "code",
   "execution_count": 52,
   "id": "0884475f",
   "metadata": {},
   "outputs": [
    {
     "name": "stdout",
     "output_type": "stream",
     "text": [
      "1f05b99f-7e2d-66e4-8003-32ea80800011\n"
     ]
    },
    {
     "ename": "IndexError",
     "evalue": "list index out of range",
     "output_type": "error",
     "traceback": [
      "\u001b[31m---------------------------------------------------------------------------\u001b[39m",
      "\u001b[31mIndexError\u001b[39m                                Traceback (most recent call last)",
      "\u001b[36mCell\u001b[39m\u001b[36m \u001b[39m\u001b[32mIn[52]\u001b[39m\u001b[32m, line 4\u001b[39m\n\u001b[32m      1\u001b[39m message_id = \u001b[33m\"\u001b[39m\u001b[33m39346737-a9ae-4256-98a8-1cece84df24d\u001b[39m\u001b[33m\"\u001b[39m\n\u001b[32m      3\u001b[39m \u001b[38;5;28;01mfor\u001b[39;00m s \u001b[38;5;129;01min\u001b[39;00m states:\n\u001b[32m----> \u001b[39m\u001b[32m4\u001b[39m     \u001b[38;5;28;01mif\u001b[39;00m \u001b[43ms\u001b[49m\u001b[43m[\u001b[49m\u001b[33;43m\"\u001b[39;49m\u001b[33;43mvalues\u001b[39;49m\u001b[33;43m\"\u001b[39;49m\u001b[43m]\u001b[49m\u001b[43m[\u001b[49m\u001b[33;43m\"\u001b[39;49m\u001b[33;43mmessages\u001b[39;49m\u001b[33;43m\"\u001b[39;49m\u001b[43m]\u001b[49m\u001b[43m[\u001b[49m\u001b[43m-\u001b[49m\u001b[32;43m1\u001b[39;49m\u001b[43m]\u001b[49m[\u001b[33m\"\u001b[39m\u001b[33mid\u001b[39m\u001b[33m\"\u001b[39m] == message_id:\n\u001b[32m      5\u001b[39m         \u001b[38;5;28mprint\u001b[39m(s[\u001b[33m\"\u001b[39m\u001b[33mcheckpoint_id\u001b[39m\u001b[33m\"\u001b[39m])\n\u001b[32m      6\u001b[39m         selected_state = s\n",
      "\u001b[31mIndexError\u001b[39m: list index out of range"
     ]
    }
   ],
   "source": [
    "message_id = \"39346737-a9ae-4256-98a8-1cece84df24d\"\n",
    "\n",
    "for s in states:\n",
    "    if s[\"values\"][\"messages\"][-1][\"id\"] == message_id:\n",
    "        print(s[\"checkpoint_id\"])\n",
    "        selected_state = s"
   ]
  },
  {
   "cell_type": "code",
   "execution_count": 53,
   "id": "e5ab5cff",
   "metadata": {},
   "outputs": [
    {
     "data": {
      "text/plain": [
       "'1f05b99f-7e2d-66e4-8003-32ea80800011'"
      ]
     },
     "execution_count": 53,
     "metadata": {},
     "output_type": "execute_result"
    }
   ],
   "source": [
    "selected_state[\"checkpoint_id\"]"
   ]
  },
  {
   "cell_type": "code",
   "execution_count": 54,
   "id": "112fbeca",
   "metadata": {},
   "outputs": [
    {
     "data": {
      "text/plain": [
       "'1f05b99f-7e2d-66e4-8003-32ea80800011'"
      ]
     },
     "execution_count": 54,
     "metadata": {},
     "output_type": "execute_result"
    }
   ],
   "source": [
    "selected_state = next(\n",
    "    s for s in states if s[\"values\"][\"messages\"][-1][\"id\"] == message_id\n",
    ")\n",
    "selected_state[\"checkpoint_id\"]"
   ]
  },
  {
   "cell_type": "code",
   "execution_count": 44,
   "id": "b6dbb1cf",
   "metadata": {},
   "outputs": [
    {
     "name": "stdout",
     "output_type": "stream",
     "text": [
      "{'checkpoint': {'thread_id': 'a72ff3d7-698f-472c-9c5f-aaac744c85c1', 'checkpoint_ns': '', 'checkpoint_id': '1f05b9ce-f655-69ea-8004-e3a0dba5d854'}, 'configurable': {'thread_id': 'a72ff3d7-698f-472c-9c5f-aaac744c85c1', 'checkpoint_ns': '', 'checkpoint_id': '1f05b9ce-f655-69ea-8004-e3a0dba5d854'}, 'checkpoint_id': '1f05b9ce-f655-69ea-8004-e3a0dba5d854'}\n"
     ]
    }
   ],
   "source": [
    "from langchain_core.messages import RemoveMessage\n",
    "\n",
    "new_config = client.threads.update_state(\n",
    "    thread_id,\n",
    "    {\"messages\": [RemoveMessage(message_id)]},\n",
    "    checkpoint_id=selected_state[\"checkpoint_id\"],\n",
    ")\n",
    "print(new_config)"
   ]
  },
  {
   "cell_type": "code",
   "execution_count": 45,
   "id": "50e50d5c",
   "metadata": {},
   "outputs": [
    {
     "name": "stdout",
     "output_type": "stream",
     "text": [
      "{'checkpoint': {'thread_id': 'a72ff3d7-698f-472c-9c5f-aaac744c85c1', 'checkpoint_ns': '', 'checkpoint_id': '1f05b9cf-10a6-6edb-8005-32edc16ad5d1'}, 'configurable': {'thread_id': 'a72ff3d7-698f-472c-9c5f-aaac744c85c1', 'checkpoint_ns': '', 'checkpoint_id': '1f05b9cf-10a6-6edb-8005-32edc16ad5d1'}, 'checkpoint_id': '1f05b9cf-10a6-6edb-8005-32edc16ad5d1'}\n"
     ]
    }
   ],
   "source": [
    "new_config = client.threads.update_state(\n",
    "    thread_id, {\"messages\": \"chickens\"}, checkpoint_id=new_config[\"checkpoint_id\"]\n",
    ")\n",
    "print(new_config)"
   ]
  },
  {
   "cell_type": "code",
   "execution_count": 46,
   "id": "21eebdf3",
   "metadata": {},
   "outputs": [],
   "source": [
    "result = client.runs.wait(\n",
    "    thread_id,\n",
    "    assistant_id,\n",
    "    input=None,\n",
    "    checkpoint_id=new_config[\"checkpoint_id\"],\n",
    ")\n"
   ]
  },
  {
   "cell_type": "code",
   "execution_count": 47,
   "id": "ad65cbad",
   "metadata": {},
   "outputs": [
    {
     "name": "stdout",
     "output_type": "stream",
     "text": [
      "human 你好？\n",
      "ai 你好！有什么我可以帮助您的吗？\n",
      "human chickens\n",
      "ai 请问您想了解关于鸡的什么信息呢？是关于养殖、市场趋势还是其他方面的？请提供更多细节，以便我更好地帮助您。\n"
     ]
    }
   ],
   "source": [
    "for s in result[\"messages\"]:\n",
    "    print(s[\"type\"], s[\"content\"])"
   ]
  },
  {
   "cell_type": "code",
   "execution_count": null,
   "id": "b50e4d88",
   "metadata": {},
   "outputs": [],
   "source": [
    "test_0 = {\n",
    "    \"values\": {\n",
    "        \"topic\": 'How about this: \"Why do cows have hooves instead of feet?\"',\n",
    "        \"joke\": \"Why do cows have hooves instead of feet? Because they lactose!\",\n",
    "    },\n",
    "    \"next\": [],\n",
    "    \"tasks\": [],\n",
    "    \"metadata\": {\n",
    "        \"user-agent\": \"langgraph-sdk-py/0.1.72\",\n",
    "        \"x-request-id\": \"aa96d577-9d6f-493f-bd67-2b2f77e8dd51\",\n",
    "        \"langgraph_auth_user\": None,\n",
    "        \"langgraph_auth_user_id\": \"\",\n",
    "        \"langgraph_auth_permissions\": [],\n",
    "        \"langgraph_request_id\": \"aa96d577-9d6f-493f-bd67-2b2f77e8dd51\",\n",
    "        \"graph_id\": \"agent\",\n",
    "        \"assistant_id\": \"fe096781-5601-53d2-b2f6-0d3403f7e9ca\",\n",
    "        \"user_id\": \"\",\n",
    "        \"created_by\": \"system\",\n",
    "        \"run_attempt\": 1,\n",
    "        \"langgraph_version\": \"0.5.1\",\n",
    "        \"langgraph_api_version\": \"0.2.78\",\n",
    "        \"langgraph_plan\": \"developer\",\n",
    "        \"langgraph_host\": \"self-hosted\",\n",
    "        \"langgraph_api_url\": \"http://127.0.0.1:2024\",\n",
    "        \"run_id\": \"1f05b8de-8db9-6847-95ac-bb87dd8c0446\",\n",
    "        \"thread_id\": \"43381dc3-6ae5-4eee-82f8-d869f77a2676\",\n",
    "        \"source\": \"loop\",\n",
    "        \"step\": 2,\n",
    "        \"parents\": {},\n",
    "    },\n",
    "    \"created_at\": \"2025-07-07T23:55:53.242621+00:00\",\n",
    "    \"checkpoint\": {\n",
    "        \"checkpoint_id\": \"1f05b8de-a91d-601a-8002-15197e533c2d\",\n",
    "        \"thread_id\": \"43381dc3-6ae5-4eee-82f8-d869f77a2676\",\n",
    "        \"checkpoint_ns\": \"\",\n",
    "    },\n",
    "    \"parent_checkpoint\": {\n",
    "        \"checkpoint_id\": \"1f05b8de-a43f-6bc0-8001-34dd2121ec54\",\n",
    "        \"thread_id\": \"43381dc3-6ae5-4eee-82f8-d869f77a2676\",\n",
    "        \"checkpoint_ns\": \"\",\n",
    "    },\n",
    "    \"checkpoint_id\": \"1f05b8de-a91d-601a-8002-15197e533c2d\",\n",
    "    \"parent_checkpoint_id\": \"1f05b8de-a43f-6bc0-8001-34dd2121ec54\",\n",
    "}"
   ]
  },
  {
   "cell_type": "code",
   "execution_count": null,
   "id": "61149813",
   "metadata": {},
   "outputs": [],
   "source": [
    "test_1 = {\n",
    "    \"values\": {\"topic\": 'How about this: \"Why do cows have hooves instead of feet?\"'},\n",
    "    \"next\": [\"write_joke\"],\n",
    "    \"tasks\": [\n",
    "        {\n",
    "            \"id\": \"f33d8f91-e535-eda5-6cb7-a5191fba9fed\",\n",
    "            \"name\": \"write_joke\",\n",
    "            \"path\": [\"__pregel_pull\", \"write_joke\"],\n",
    "            \"error\": None,\n",
    "            \"interrupts\": [],\n",
    "            \"checkpoint\": None,\n",
    "            \"state\": None,\n",
    "            \"result\": {\n",
    "                \"joke\": \"Why do cows have hooves instead of feet? Because they lactose!\"\n",
    "            },\n",
    "        }\n",
    "    ],\n",
    "    \"metadata\": {\n",
    "        \"user-agent\": \"langgraph-sdk-py/0.1.72\",\n",
    "        \"x-request-id\": \"aa96d577-9d6f-493f-bd67-2b2f77e8dd51\",\n",
    "        \"langgraph_auth_user\": None,\n",
    "        \"langgraph_auth_user_id\": \"\",\n",
    "        \"langgraph_auth_permissions\": [],\n",
    "        \"langgraph_request_id\": \"aa96d577-9d6f-493f-bd67-2b2f77e8dd51\",\n",
    "        \"graph_id\": \"agent\",\n",
    "        \"assistant_id\": \"fe096781-5601-53d2-b2f6-0d3403f7e9ca\",\n",
    "        \"user_id\": \"\",\n",
    "        \"created_by\": \"system\",\n",
    "        \"run_attempt\": 1,\n",
    "        \"langgraph_version\": \"0.5.1\",\n",
    "        \"langgraph_api_version\": \"0.2.78\",\n",
    "        \"langgraph_plan\": \"developer\",\n",
    "        \"langgraph_host\": \"self-hosted\",\n",
    "        \"langgraph_api_url\": \"http://127.0.0.1:2024\",\n",
    "        \"run_id\": \"1f05b8de-8db9-6847-95ac-bb87dd8c0446\",\n",
    "        \"thread_id\": \"43381dc3-6ae5-4eee-82f8-d869f77a2676\",\n",
    "        \"source\": \"loop\",\n",
    "        \"step\": 1,\n",
    "        \"parents\": {},\n",
    "    },\n",
    "    \"created_at\": \"2025-07-07T23:55:52.732557+00:00\",\n",
    "    \"checkpoint\": {\n",
    "        \"checkpoint_id\": \"1f05b8de-a43f-6bc0-8001-34dd2121ec54\",\n",
    "        \"thread_id\": \"43381dc3-6ae5-4eee-82f8-d869f77a2676\",\n",
    "        \"checkpoint_ns\": \"\",\n",
    "    },\n",
    "    \"parent_checkpoint\": {\n",
    "        \"checkpoint_id\": \"1f05b8de-970e-6775-8000-108345c911de\",\n",
    "        \"thread_id\": \"43381dc3-6ae5-4eee-82f8-d869f77a2676\",\n",
    "        \"checkpoint_ns\": \"\",\n",
    "    },\n",
    "    \"checkpoint_id\": \"1f05b8de-a43f-6bc0-8001-34dd2121ec54\",\n",
    "    \"parent_checkpoint_id\": \"1f05b8de-970e-6775-8000-108345c911de\",\n",
    "}"
   ]
  },
  {
   "cell_type": "code",
   "execution_count": null,
   "id": "41d200bb",
   "metadata": {},
   "outputs": [],
   "source": [
    "test_2 = {\n",
    "    \"values\": {},\n",
    "    \"next\": [\"generate_topic\"],\n",
    "    \"tasks\": [\n",
    "        {\n",
    "            \"id\": \"983b4417-2020-f3ef-bb90-e331471b49af\",\n",
    "            \"name\": \"generate_topic\",\n",
    "            \"path\": [\"__pregel_pull\", \"generate_topic\"],\n",
    "            \"error\": None,\n",
    "            \"interrupts\": [],\n",
    "            \"checkpoint\": None,\n",
    "            \"state\": None,\n",
    "            \"result\": {\n",
    "                \"topic\": 'How about this: \"Why do cows have hooves instead of feet?\"'\n",
    "            },\n",
    "        }\n",
    "    ],\n",
    "    \"metadata\": {\n",
    "        \"user-agent\": \"langgraph-sdk-py/0.1.72\",\n",
    "        \"x-request-id\": \"aa96d577-9d6f-493f-bd67-2b2f77e8dd51\",\n",
    "        \"langgraph_auth_user\": None,\n",
    "        \"langgraph_auth_user_id\": \"\",\n",
    "        \"langgraph_auth_permissions\": [],\n",
    "        \"langgraph_request_id\": \"aa96d577-9d6f-493f-bd67-2b2f77e8dd51\",\n",
    "        \"graph_id\": \"agent\",\n",
    "        \"assistant_id\": \"fe096781-5601-53d2-b2f6-0d3403f7e9ca\",\n",
    "        \"user_id\": \"\",\n",
    "        \"created_by\": \"system\",\n",
    "        \"run_attempt\": 1,\n",
    "        \"langgraph_version\": \"0.5.1\",\n",
    "        \"langgraph_api_version\": \"0.2.78\",\n",
    "        \"langgraph_plan\": \"developer\",\n",
    "        \"langgraph_host\": \"self-hosted\",\n",
    "        \"langgraph_api_url\": \"http://127.0.0.1:2024\",\n",
    "        \"run_id\": \"1f05b8de-8db9-6847-95ac-bb87dd8c0446\",\n",
    "        \"thread_id\": \"43381dc3-6ae5-4eee-82f8-d869f77a2676\",\n",
    "        \"source\": \"loop\",\n",
    "        \"step\": 0,\n",
    "        \"parents\": {},\n",
    "    },\n",
    "    \"created_at\": \"2025-07-07T23:55:51.349230+00:00\",\n",
    "    \"checkpoint\": {\n",
    "        \"checkpoint_id\": \"1f05b8de-970e-6775-8000-108345c911de\",\n",
    "        \"thread_id\": \"43381dc3-6ae5-4eee-82f8-d869f77a2676\",\n",
    "        \"checkpoint_ns\": \"\",\n",
    "    },\n",
    "    \"parent_checkpoint\": {\n",
    "        \"checkpoint_id\": \"1f05b8de-970d-6949-bfff-e42ad61be150\",\n",
    "        \"thread_id\": \"43381dc3-6ae5-4eee-82f8-d869f77a2676\",\n",
    "        \"checkpoint_ns\": \"\",\n",
    "    },\n",
    "    \"checkpoint_id\": \"1f05b8de-970e-6775-8000-108345c911de\",\n",
    "    \"parent_checkpoint_id\": \"1f05b8de-970d-6949-bfff-e42ad61be150\",\n",
    "}"
   ]
  },
  {
   "cell_type": "code",
   "execution_count": null,
   "id": "6f7f66d4",
   "metadata": {},
   "outputs": [],
   "source": [
    "test_3 = {\n",
    "    \"values\": {},\n",
    "    \"next\": [\"__start__\"],\n",
    "    \"tasks\": [\n",
    "        {\n",
    "            \"id\": \"5ccff2bb-9c6f-e30b-7e4a-3e40544807e7\",\n",
    "            \"name\": \"__start__\",\n",
    "            \"path\": [\"__pregel_pull\", \"__start__\"],\n",
    "            \"error\": None,\n",
    "            \"interrupts\": [],\n",
    "            \"checkpoint\": None,\n",
    "            \"state\": None,\n",
    "            \"result\": {},\n",
    "        }\n",
    "    ],\n",
    "    \"metadata\": {\n",
    "        \"user-agent\": \"langgraph-sdk-py/0.1.72\",\n",
    "        \"x-request-id\": \"aa96d577-9d6f-493f-bd67-2b2f77e8dd51\",\n",
    "        \"langgraph_auth_user\": None,\n",
    "        \"langgraph_auth_user_id\": \"\",\n",
    "        \"langgraph_auth_permissions\": [],\n",
    "        \"langgraph_request_id\": \"aa96d577-9d6f-493f-bd67-2b2f77e8dd51\",\n",
    "        \"graph_id\": \"agent\",\n",
    "        \"assistant_id\": \"fe096781-5601-53d2-b2f6-0d3403f7e9ca\",\n",
    "        \"user_id\": \"\",\n",
    "        \"created_by\": \"system\",\n",
    "        \"run_attempt\": 1,\n",
    "        \"langgraph_version\": \"0.5.1\",\n",
    "        \"langgraph_api_version\": \"0.2.78\",\n",
    "        \"langgraph_plan\": \"developer\",\n",
    "        \"langgraph_host\": \"self-hosted\",\n",
    "        \"langgraph_api_url\": \"http://127.0.0.1:2024\",\n",
    "        \"run_id\": \"1f05b8de-8db9-6847-95ac-bb87dd8c0446\",\n",
    "        \"thread_id\": \"43381dc3-6ae5-4eee-82f8-d869f77a2676\",\n",
    "        \"source\": \"input\",\n",
    "        \"step\": -1,\n",
    "        \"parents\": {},\n",
    "    },\n",
    "    \"created_at\": \"2025-07-07T23:55:51.348867+00:00\",\n",
    "    \"checkpoint\": {\n",
    "        \"checkpoint_id\": \"1f05b8de-970d-6949-bfff-e42ad61be150\",\n",
    "        \"thread_id\": \"43381dc3-6ae5-4eee-82f8-d869f77a2676\",\n",
    "        \"checkpoint_ns\": \"\",\n",
    "    },\n",
    "    \"parent_checkpoint\": None,\n",
    "    \"checkpoint_id\": \"1f05b8de-970d-6949-bfff-e42ad61be150\",\n",
    "    \"parent_checkpoint_id\": None,\n",
    "}"
   ]
  },
  {
   "cell_type": "code",
   "execution_count": null,
   "id": "2513fb89",
   "metadata": {},
   "outputs": [],
   "source": [
    "new_config = await client.threads.update_state(\n",
    "    thread_id, {\"topic\": \"chickens\"}, checkpoint_id=selected_state[\"checkpoint_id\"]\n",
    ")\n",
    "print(new_config)"
   ]
  },
  {
   "cell_type": "code",
   "execution_count": null,
   "id": "4c155a53",
   "metadata": {},
   "outputs": [],
   "source": [
    "new_config = {\n",
    "    \"checkpoint\": {\n",
    "        \"thread_id\": \"43381dc3-6ae5-4eee-82f8-d869f77a2676\",\n",
    "        \"checkpoint_ns\": \"\",\n",
    "        \"checkpoint_id\": \"1f05b8e7-3185-6e6f-8002-16e285691498\",\n",
    "    },\n",
    "    \"configurable\": {\n",
    "        \"thread_id\": \"43381dc3-6ae5-4eee-82f8-d869f77a2676\",\n",
    "        \"checkpoint_ns\": \"\",\n",
    "        \"checkpoint_id\": \"1f05b8e7-3185-6e6f-8002-16e285691498\",\n",
    "    },\n",
    "    \"checkpoint_id\": \"1f05b8e7-3185-6e6f-8002-16e285691498\",\n",
    "}"
   ]
  },
  {
   "cell_type": "code",
   "execution_count": null,
   "id": "570d7f0c",
   "metadata": {},
   "outputs": [],
   "source": [
    "await client.runs.wait(\n",
    "    thread_id, assistant_id, input=None, checkpoint_id=new_config[\"checkpoint_id\"]\n",
    ")"
   ]
  },
  {
   "cell_type": "code",
   "execution_count": null,
   "id": "5147dbc2",
   "metadata": {},
   "outputs": [],
   "source": [
    "states = await client.threads.get_history(thread_id)\n",
    "for s in states:\n",
    "    print(s[\"values\"])"
   ]
  }
 ],
 "metadata": {
  "kernelspec": {
   "display_name": "react-agent",
   "language": "python",
   "name": "python3"
  },
  "language_info": {
   "codemirror_mode": {
    "name": "ipython",
    "version": 3
   },
   "file_extension": ".py",
   "mimetype": "text/x-python",
   "name": "python",
   "nbconvert_exporter": "python",
   "pygments_lexer": "ipython3",
   "version": "3.13.5"
  }
 },
 "nbformat": 4,
 "nbformat_minor": 5
}
