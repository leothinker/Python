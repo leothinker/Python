{
 "cells": [
  {
   "cell_type": "code",
   "execution_count": null,
   "id": "6c0aec7d",
   "metadata": {},
   "outputs": [],
   "source": [
    "%%capture --no-stderr\n",
    "%pip install --quiet -U langgraph langchain_anthropic"
   ]
  },
  {
   "cell_type": "code",
   "execution_count": null,
   "id": "56f9b543",
   "metadata": {},
   "outputs": [],
   "source": [
    "import getpass\n",
    "import os\n",
    "\n",
    "\n",
    "def _set_env(var: str):\n",
    "    if not os.environ.get(var):\n",
    "        os.environ[var] = getpass.getpass(f\"{var}: \")\n",
    "\n",
    "\n",
    "_set_env(\"ANTHROPIC_API_KEY\")"
   ]
  },
  {
   "cell_type": "code",
   "execution_count": null,
   "id": "4441e1e3",
   "metadata": {},
   "outputs": [
    {
     "data": {
      "image/png": "[encoded data removed]",
      "text/plain": [
       "<langgraph.graph.state.CompiledStateGraph object at 0x000001892E516900>"
      ]
     },
     "execution_count": 1,
     "metadata": {},
     "output_type": "execute_result"
    }
   ],
   "source": [
    "import uuid\n",
    "\n",
    "from langchain.chat_models import init_chat_model\n",
    "from langgraph.checkpoint.memory import InMemorySaver\n",
    "from langgraph.graph import END, START, StateGraph\n",
    "\n",
    "from typing import Annotated\n",
    "from __future__ import annotations\n",
    "\n",
    "\n",
    "from collections.abc import Sequence\n",
    "from dataclasses import dataclass, field\n",
    "from typing import Annotated\n",
    "\n",
    "from langchain_core.messages import AnyMessage\n",
    "from langgraph.graph import add_messages\n",
    "\n",
    "\n",
    "class State:\n",
    "    Annotated[Sequence[AnyMessage], add_messages] = field(default_factory=list)\n",
    "\n",
    "\n",
    "llm = init_chat_model(\n",
    "    \"azure_openai:gpt-4o\",\n",
    "    temperature=0,\n",
    ")\n",
    "\n",
    "\n",
    "def generate_topic(state: State):\n",
    "    \"\"\"LLM call to generate a topic for the joke\"\"\"\n",
    "    msg = llm.invoke(\"Give me a funny topic for a joke\")\n",
    "    return {\"topic\": msg.content}\n",
    "\n",
    "\n",
    "def write_joke(state: State):\n",
    "    \"\"\"LLM call to write a joke based on the topic\"\"\"\n",
    "    msg = llm.invoke(f\"Write a short joke about {state['topic']}\")\n",
    "    return {\"joke\": msg.content}\n",
    "\n",
    "\n",
    "# Build workflow\n",
    "workflow = StateGraph(State)\n",
    "\n",
    "# Add nodes\n",
    "workflow.add_node(\"generate_topic\", generate_topic)\n",
    "workflow.add_node(\"write_joke\", write_joke)\n",
    "\n",
    "# Add edges to connect nodes\n",
    "workflow.add_edge(START, \"generate_topic\")\n",
    "workflow.add_edge(\"generate_topic\", \"write_joke\")\n",
    "workflow.add_edge(\"write_joke\", END)\n",
    "\n",
    "# Compile\n",
    "checkpointer = InMemorySaver()\n",
    "graph = workflow.compile(checkpointer=checkpointer)\n",
    "graph"
   ]
  },
  {
   "cell_type": "code",
   "execution_count": 2,
   "id": "43e8fb64",
   "metadata": {},
   "outputs": [
    {
     "name": "stdout",
     "output_type": "stream",
     "text": [
      "How about this: \"Why do cows have hooves instead of feet?\"\n",
      "\n",
      "Why do cows have hooves instead of feet? Because they lactose!\n"
     ]
    }
   ],
   "source": [
    "config = {\n",
    "    \"configurable\": {\n",
    "        \"thread_id\": uuid.uuid4(),\n",
    "    }\n",
    "}\n",
    "state = graph.invoke({}, config)\n",
    "\n",
    "print(state[\"topic\"])\n",
    "print()\n",
    "print(state[\"joke\"])"
   ]
  },
  {
   "cell_type": "code",
   "execution_count": 3,
   "id": "f03280b7",
   "metadata": {},
   "outputs": [
    {
     "name": "stdout",
     "output_type": "stream",
     "text": [
      "StateSnapshot(values={'topic': 'How about this: \"Why do cows have hooves instead of feet?\"', 'joke': 'Why do cows have hooves instead of feet? Because they lactose!'}, next=(), config={'configurable': {'thread_id': 'f99096d8-5db5-46d5-9658-ada25c74d093', 'checkpoint_ns': '', 'checkpoint_id': '1f05b628-8380-6567-8002-4b07fb25d9c0'}}, metadata={'source': 'loop', 'step': 2, 'parents': {}, 'thread_id': 'f99096d8-5db5-46d5-9658-ada25c74d093'}, created_at='2025-07-07T18:45:19.878065+00:00', parent_config={'configurable': {'thread_id': 'f99096d8-5db5-46d5-9658-ada25c74d093', 'checkpoint_ns': '', 'checkpoint_id': '1f05b628-7ef2-6cf7-8001-33b58661e964'}}, tasks=(), interrupts=())\n",
      "\n",
      "StateSnapshot(values={'topic': 'How about this: \"Why do cows have hooves instead of feet?\"'}, next=('write_joke',), config={'configurable': {'thread_id': 'f99096d8-5db5-46d5-9658-ada25c74d093', 'checkpoint_ns': '', 'checkpoint_id': '1f05b628-7ef2-6cf7-8001-33b58661e964'}}, metadata={'source': 'loop', 'step': 1, 'parents': {}, 'thread_id': 'f99096d8-5db5-46d5-9658-ada25c74d093'}, created_at='2025-07-07T18:45:19.400666+00:00', parent_config={'configurable': {'thread_id': 'f99096d8-5db5-46d5-9658-ada25c74d093', 'checkpoint_ns': '', 'checkpoint_id': '1f05b628-735f-6ebe-8000-b15983cb4279'}}, tasks=(PregelTask(id='89788fb3-e739-cdbc-c416-1cba178ead1c', name='write_joke', path=('__pregel_pull', 'write_joke'), error=None, interrupts=(), state=None, result={'joke': 'Why do cows have hooves instead of feet? Because they lactose!'}),), interrupts=())\n",
      "\n",
      "StateSnapshot(values={}, next=('generate_topic',), config={'configurable': {'thread_id': 'f99096d8-5db5-46d5-9658-ada25c74d093', 'checkpoint_ns': '', 'checkpoint_id': '1f05b628-735f-6ebe-8000-b15983cb4279'}}, metadata={'source': 'loop', 'step': 0, 'parents': {}, 'thread_id': 'f99096d8-5db5-46d5-9658-ada25c74d093'}, created_at='2025-07-07T18:45:18.187072+00:00', parent_config={'configurable': {'thread_id': 'f99096d8-5db5-46d5-9658-ada25c74d093', 'checkpoint_ns': '', 'checkpoint_id': '1f05b628-735e-68a1-bfff-5f3b60234ff0'}}, tasks=(PregelTask(id='6a095c06-fca0-5f9e-7217-b0093454cd9d', name='generate_topic', path=('__pregel_pull', 'generate_topic'), error=None, interrupts=(), state=None, result={'topic': 'How about this: \"Why do cows have hooves instead of feet?\"'}),), interrupts=())\n",
      "\n",
      "StateSnapshot(values={}, next=('__start__',), config={'configurable': {'thread_id': 'f99096d8-5db5-46d5-9658-ada25c74d093', 'checkpoint_ns': '', 'checkpoint_id': '1f05b628-735e-68a1-bfff-5f3b60234ff0'}}, metadata={'source': 'input', 'step': -1, 'parents': {}, 'thread_id': 'f99096d8-5db5-46d5-9658-ada25c74d093'}, created_at='2025-07-07T18:45:18.186507+00:00', parent_config=None, tasks=(PregelTask(id='807e6237-7060-34d6-abdc-197923789645', name='__start__', path=('__pregel_pull', '__start__'), error=None, interrupts=(), state=None, result={}),), interrupts=())\n",
      "\n"
     ]
    }
   ],
   "source": [
    "# The states are returned in reverse chronological order.\n",
    "states = list(graph.get_state_history(config))\n",
    "\n",
    "for state in states:\n",
    "    print(state)\n",
    "    print()"
   ]
  },
  {
   "cell_type": "code",
   "execution_count": 4,
   "id": "c29586c8",
   "metadata": {},
   "outputs": [
    {
     "name": "stdout",
     "output_type": "stream",
     "text": [
      "('write_joke',)\n",
      "{'topic': 'How about this: \"Why do cows have hooves instead of feet?\"'}\n"
     ]
    }
   ],
   "source": [
    "# This is the state before last (states are listed in chronological order)\n",
    "selected_state = states[1]\n",
    "print(selected_state.next)\n",
    "print(selected_state.values)"
   ]
  },
  {
   "cell_type": "code",
   "execution_count": 5,
   "id": "a7401294",
   "metadata": {},
   "outputs": [
    {
     "name": "stdout",
     "output_type": "stream",
     "text": [
      "{'configurable': {'thread_id': 'f99096d8-5db5-46d5-9658-ada25c74d093', 'checkpoint_ns': '', 'checkpoint_id': '1f05b62f-ed42-698b-8002-04c73ce11051'}}\n"
     ]
    }
   ],
   "source": [
    "new_config = graph.update_state(selected_state.config, values={\"topic\": \"chickens\"})\n",
    "print(new_config)"
   ]
  },
  {
   "cell_type": "code",
   "execution_count": 6,
   "id": "29b598c4",
   "metadata": {},
   "outputs": [
    {
     "data": {
      "text/plain": [
       "{'topic': 'chickens',\n",
       " 'joke': 'Why did the chicken join a band? Because it had the drumsticks!'}"
      ]
     },
     "execution_count": 6,
     "metadata": {},
     "output_type": "execute_result"
    }
   ],
   "source": [
    "graph.invoke(None, new_config)"
   ]
  },
  {
   "cell_type": "code",
   "execution_count": 8,
   "id": "a0621a56",
   "metadata": {},
   "outputs": [
    {
     "name": "stdout",
     "output_type": "stream",
     "text": [
      "{'topic': 'chickens', 'joke': 'Why did the chicken join a band? Because it had the drumsticks!'}\n",
      "\n",
      "{'topic': 'chickens'}\n",
      "\n",
      "{'topic': 'How about this: \"Why do cows have hooves instead of feet?\"', 'joke': 'Why do cows have hooves instead of feet? Because they lactose!'}\n",
      "\n",
      "{'topic': 'How about this: \"Why do cows have hooves instead of feet?\"'}\n",
      "\n",
      "{}\n",
      "\n",
      "{}\n",
      "\n"
     ]
    }
   ],
   "source": [
    "# The states are returned in reverse chronological order.\n",
    "states = list(graph.get_state_history(config))\n",
    "\n",
    "for state in states:\n",
    "    print(state.values)\n",
    "    print()"
   ]
  }
 ],
 "metadata": {
  "kernelspec": {
   "display_name": "react-agent",
   "language": "python",
   "name": "python3"
  },
  "language_info": {
   "codemirror_mode": {
    "name": "ipython",
    "version": 3
   },
   "file_extension": ".py",
   "mimetype": "text/x-python",
   "name": "python",
   "nbconvert_exporter": "python",
   "pygments_lexer": "ipython3",
   "version": "3.13.5"
  }
 },
 "nbformat": 4,
 "nbformat_minor": 5
}
